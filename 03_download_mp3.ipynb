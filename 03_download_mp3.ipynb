{
 "cells": [
  {
   "cell_type": "code",
   "execution_count": 1,
   "id": "b8aabc18-5d63-49fa-9441-f2a015d82be7",
   "metadata": {},
   "outputs": [],
   "source": [
    "import pickle\n",
    "import pandas as pd\n",
    "    \n",
    "def read_bin(filename):\n",
    "    with open(filename,'rb') as bf:\n",
    "        bin_data = pd.read_pickle(bf)\n",
    "    return bin_data\n",
    "\n",
    "def save_bin(filename,data):\n",
    "    with open(filename,'wb') as bf:\n",
    "        pickle.dump(data,bf)"
   ]
  },
  {
   "cell_type": "code",
   "execution_count": 2,
   "id": "e77e6f96-62ed-4631-b172-f09e1c400d59",
   "metadata": {},
   "outputs": [],
   "source": [
    "ontology = read_bin(\"ontology.pickle\")"
   ]
  },
  {
   "cell_type": "markdown",
   "id": "51899ada-a029-4f2f-b84e-fdfbf131fd95",
   "metadata": {},
   "source": [
    "## Wikidata IDからXeno cant IDの取得"
   ]
  },
  {
   "cell_type": "code",
   "execution_count": null,
   "id": "ebffd294-c1b1-4c24-b503-2f7f23b63552",
   "metadata": {},
   "outputs": [],
   "source": [
    "# # id2Xenoの作成\n",
    "# import requests\n",
    "# from bs4 import BeautifulSoup\n",
    "# import csv\n",
    "\n",
    "# with open('saved_data/id2Xeno.csv', mode='w', newline='', encoding='utf-8') as file:\n",
    "#     writer = csv.DictWriter(file,fieldnames=[\"wikidata_id\", \"xeno_canto_id\"])#, fieldnames=[\"wikidata_id\", \"xeno_canto_id\"]\n",
    "#     writer.writeheader()\n",
    "    \n",
    "#     for i in range(0,len(ontology)):\n",
    "#         print('\\r%d / %d' %(i, 50646), end='')\n",
    "#         try:\n",
    "#             url = 'https://www.wikidata.org/entity/'+ontology[i][\"id\"]+'.json'\n",
    "#             response = requests.get(url)\n",
    "#             data = response.json()\n",
    "            \n",
    "#             the_id = list(data[\"entities\"].keys())[0]#リダイレクト対策\n",
    "#             claims = data['entities'][the_id]['claims']\n",
    "#             if 'P2426' in claims:\n",
    "#                 print('\\r%d / %d              ' %(i, 50646), end='')\n",
    "#                 xeno_canto_id = claims['P2426'][0]['mainsnak']['datavalue']['value']\n",
    "#                 writer.writerow({\"wikidata_id\":the_id, \"xeno_canto_id\":xeno_canto_id})\n",
    "#             else:\n",
    "#                 print('\\r%d / %d  nodata' %(i, 50646), end='')\n",
    "#         except:\n",
    "#             pass\n"
   ]
  },
  {
   "cell_type": "code",
   "execution_count": null,
   "id": "58ef9084-502c-49bf-91bd-50fcdae285a0",
   "metadata": {},
   "outputs": [],
   "source": [
    "# protected_data にコピーを作成して守る"
   ]
  },
  {
   "cell_type": "markdown",
   "id": "0d262dfd-f630-4be6-b214-f867c080f5f0",
   "metadata": {},
   "source": [
    "## 音声データ固有のID取得"
   ]
  },
  {
   "cell_type": "code",
   "execution_count": null,
   "id": "52cecc5f-cb8e-4361-9493-5ba32211ddae",
   "metadata": {},
   "outputs": [],
   "source": [
    "def soup2page_num(soup):\n",
    "    page_links = soup.select('nav.results-pages ul li a')\n",
    "    max_page_number = 1\n",
    "    \n",
    "    for link in page_links:\n",
    "        page_number = link.get_text()\n",
    "        if page_number.isdigit():  # 数字かどうかを確認\n",
    "            max_page_number = max(max_page_number, int(page_number))\n",
    "    return max_page_number"
   ]
  },
  {
   "cell_type": "code",
   "execution_count": null,
   "id": "b622f146-dd00-45cb-9d37-011d33885067",
   "metadata": {},
   "outputs": [],
   "source": [
    "def url2soup(url):\n",
    "    response = requests.get(url)\n",
    "    soup = BeautifulSoup(response.text, 'html.parser')\n",
    "    return soup"
   ]
  },
  {
   "cell_type": "code",
   "execution_count": null,
   "id": "925ea43a-e243-4ffd-be01-ea844b4f16af",
   "metadata": {},
   "outputs": [],
   "source": [
    "def sound_ids(soup):\n",
    "    fancybox_a_tags = soup.find_all('a', class_='fancybox', rel='sono')\n",
    "    sound_ids = [title[\"title\"].split(\":\")[0] for title in fancybox_a_tags]\n",
    "    return sound_ids"
   ]
  },
  {
   "cell_type": "code",
   "execution_count": null,
   "id": "a75cd086-52fe-4cc0-9e08-fd07191cb48c",
   "metadata": {},
   "outputs": [],
   "source": [
    "import pandas as pd\n",
    "\n",
    "df = pd.read_csv(\"saved_data/id2Xeno.csv\",header = None)\n",
    "id2Xeno = dict(zip(df[0], df[1]))\n",
    "\n",
    "the_ids = list(id2Xeno.keys())\n",
    "\n",
    "xeno_canto_ids = []\n",
    "for k in the_ids:\n",
    "    xeno_canto_ids.append(id2Xeno[k])"
   ]
  },
  {
   "cell_type": "code",
   "execution_count": null,
   "id": "c8ad8eab-d63b-421d-a239-95793bd3c82f",
   "metadata": {},
   "outputs": [],
   "source": [
    "len(the_ids)"
   ]
  },
  {
   "cell_type": "code",
   "execution_count": null,
   "id": "5e0e9c1c-ec6a-4c27-98dc-18b83fd02ddc",
   "metadata": {},
   "outputs": [],
   "source": [
    "Xeno2sound_ids = dict()"
   ]
  },
  {
   "cell_type": "code",
   "execution_count": null,
   "id": "45e884ce-953b-471d-af44-a160947b6890",
   "metadata": {},
   "outputs": [],
   "source": [
    "import requests\n",
    "from bs4 import BeautifulSoup\n",
    "import os\n",
    "\n",
    "for j in range(0,9627):\n",
    "    species_query = xeno_canto_ids[j].replace(' ', '%20')# 鳥名を検索クエリに\n",
    "    first_soup = url2soup(f\"https://xeno-canto.org/species/\"+species_query)\n",
    "    \n",
    "    n = soup2page_num(first_soup)\n",
    "    all_sound_ids = []\n",
    "    \n",
    "    for i in range(1,n+1):\n",
    "        print('\\r%d / %d   :  %d / %d        len:%d         ' %(j, 9627, i, n,len(id2sound_ids)), end='')\n",
    "        soup = url2soup(\"https://xeno-canto.org/species/\"+species_query+\"?pg=\"+str(i))\n",
    "        all_sound_ids = all_sound_ids + sound_ids(soup)\n",
    "        \n",
    "    Xeno2sound_ids[the_ids[j]] = all_sound_ids"
   ]
  },
  {
   "cell_type": "code",
   "execution_count": null,
   "id": "20726927-55ee-45b8-8a15-4fb017d576a4",
   "metadata": {},
   "outputs": [],
   "source": [
    "save_bin(\"saved_data/Xeno2sound_ids.bin\",Xeno2sound_ids)"
   ]
  },
  {
   "cell_type": "code",
   "execution_count": null,
   "id": "d008dce4-183b-4549-84e9-1e381ece99c7",
   "metadata": {},
   "outputs": [],
   "source": [
    "len(Xeno2sound_ids)"
   ]
  },
  {
   "cell_type": "markdown",
   "id": "db17c38c-a45d-4acb-a730-35202a6106bb",
   "metadata": {},
   "source": [
    "## 音声データダウンロード"
   ]
  },
  {
   "cell_type": "code",
   "execution_count": 3,
   "id": "37afd308-6f1e-47b0-8391-f079cf902957",
   "metadata": {},
   "outputs": [],
   "source": [
    "Xeno2sound_ids = read_bin(\"saved_data/Xeno2sound_ids.bin\")"
   ]
  },
  {
   "cell_type": "code",
   "execution_count": 4,
   "id": "11b215b4-28d8-49de-b94e-7ce5126b2516",
   "metadata": {},
   "outputs": [],
   "source": [
    "ontology = read_bin(\"ontology.pickle\")"
   ]
  },
  {
   "cell_type": "code",
   "execution_count": null,
   "id": "a0387094-d4a7-4fdd-9493-82a866a2622f",
   "metadata": {},
   "outputs": [],
   "source": [
    "# 順番通りに取得する必要があるためpandasより\n",
    "# import pandas as pd\n",
    "# df = pd.read_csv(\"saved_data/id2Xeno.csv\",header = None)\n",
    "# the_ids = list(df[0])"
   ]
  },
  {
   "cell_type": "code",
   "execution_count": null,
   "id": "c34170b9-7ce8-4024-bcbf-bf69aa34632c",
   "metadata": {},
   "outputs": [],
   "source": [
    "import os\n",
    "os.makedirs('xeno_data', exist_ok=True)\n",
    "# error = []"
   ]
  },
  {
   "cell_type": "code",
   "execution_count": null,
   "id": "b10ab03f-1a4d-4462-9ccc-351a94e6f8e8",
   "metadata": {},
   "outputs": [],
   "source": [
    "## short_data 対応"
   ]
  },
  {
   "cell_type": "code",
   "execution_count": 5,
   "id": "2e034997-de9d-49f5-9fdd-3ad602110f7d",
   "metadata": {},
   "outputs": [],
   "source": [
    "import os\n",
    "\n",
    "def directory_to_dict(path):\n",
    "    dir_dict = {}\n",
    "    for root, dirs, files in os.walk(path):\n",
    "        for directory in dirs:\n",
    "            sub_dir_path = os.path.join(root, directory)\n",
    "            dir_dict[directory] = os.listdir(sub_dir_path)\n",
    "        break\n",
    "    \n",
    "    return dir_dict"
   ]
  },
  {
   "cell_type": "code",
   "execution_count": 12,
   "id": "ffe7ed60-71ce-4752-bcda-10dd245a19c5",
   "metadata": {},
   "outputs": [],
   "source": [
    "directory_path = './xeno_data'\n",
    "result = directory_to_dict(directory_path)\n",
    "\n",
    "import pandas as pd\n",
    "df = pd.read_csv(\"saved_data/id2Xeno.csv\",header = None)\n",
    "the_ids = list(df[0])\n",
    "\n",
    "nodata_files = []\n",
    "for the_id in the_ids:\n",
    "    if the_id in result and the_id in Xeno2sound_ids:\n",
    "        if len(result[the_id]) != 101:\n",
    "            if len(result[the_id]) < len(Xeno2sound_ids[the_id]):\n",
    "                nodata_files.append(the_id)"
   ]
  },
  {
   "cell_type": "code",
   "execution_count": null,
   "id": "ae6a6821-a1b8-4c01-8802-4c32b581384e",
   "metadata": {},
   "outputs": [],
   "source": [
    "# nodata_files = nodata_files[:1000]"
   ]
  },
  {
   "cell_type": "code",
   "execution_count": 13,
   "id": "5ad0f082-6823-4e57-98e1-4fa6d7672c0d",
   "metadata": {},
   "outputs": [
    {
     "data": {
      "text/plain": [
       "5797"
      ]
     },
     "execution_count": 13,
     "metadata": {},
     "output_type": "execute_result"
    }
   ],
   "source": [
    "len(nodata_files)"
   ]
  },
  {
   "cell_type": "code",
   "execution_count": 14,
   "id": "4aad7352-054a-4408-bc72-de2bdb441cd0",
   "metadata": {},
   "outputs": [
    {
     "data": {
      "text/plain": [
       "11052"
      ]
     },
     "execution_count": 14,
     "metadata": {},
     "output_type": "execute_result"
    }
   ],
   "source": [
    "len(the_ids)"
   ]
  },
  {
   "cell_type": "code",
   "execution_count": null,
   "id": "1e9c6be1-0325-40d6-8a03-640aa287bf7e",
   "metadata": {},
   "outputs": [
    {
     "name": "stdout",
     "output_type": "stream",
     "text": [
      "【Q1272591】  78 / 5797   :  17 / 52   ...802256.mp3 downloaded                                          to.org', port=443): Max retries exceeded with url: /391871/download (Caused by ConnectTimeoutError(<urllib3.connection.HTTPSConnection object at 0x00000246F080F7D0>, 'Connection to xeno-canto.org timed out. (connect timeout=None)'))                                     "
     ]
    }
   ],
   "source": [
    "import requests\n",
    "import os\n",
    "from concurrent.futures import ThreadPoolExecutor, as_completed\n",
    "\n",
    "def download_sound(sound_id, the_id):\n",
    "    sound_num = str(sound_id[2:])  # XC削除\n",
    "    sound_path = os.path.join(\"xeno_data\", the_id, sound_num + \".mp3\")\n",
    "    \n",
    "    if not os.path.exists(sound_path):\n",
    "        try:\n",
    "            audio_response = requests.get(f\"https://xeno-canto.org/{sound_num}/download\")\n",
    "            with open(sound_path, 'wb') as f:\n",
    "                f.write(audio_response.content)\n",
    "            return f\"{sound_num}.mp3 downloaded\"\n",
    "        except Exception as e:\n",
    "            return f\"Error downloading {sound_num}.mp3: {e}\"\n",
    "    else:\n",
    "        return f\"{sound_num}.mp3 already exists\"\n",
    "\n",
    "def download_all_sounds(j,the_id, sound_ids):\n",
    "    bird_path = os.path.join(\"xeno_data\", the_id)  # 鳥種フォルダ作成\n",
    "    os.makedirs(bird_path, exist_ok=True)\n",
    "    \n",
    "    with ThreadPoolExecutor(max_workers=5) as executor:\n",
    "        futures = [executor.submit(download_sound, sound_id, the_id) for sound_id in sound_ids]\n",
    "        i = 0\n",
    "        for future in as_completed(futures):\n",
    "            print('\\r【%s】  %d / %d   :  %d / %d   ...%s                                     ' % (the_id, j, len(nodata_files), i, len(Xeno2sound_ids[the_id]),future.result()), end='')\n",
    "            i = i+ 1\n",
    "\n",
    "def cut_over_101(the_id):\n",
    "    input_list = Xeno2sound_ids[the_id]\n",
    "    if len(input_list) > 101:\n",
    "        input_list = input_list[:101]\n",
    "    return input_list\n",
    "    \n",
    "# 使用例\n",
    "for j in range(0,len(nodata_files)):\n",
    "    the_id = nodata_files[j]\n",
    "    if the_id in Xeno2sound_ids:\n",
    "        ids_list = cut_over_101(the_id)\n",
    "        download_all_sounds(j,the_id, ids_list)"
   ]
  },
  {
   "cell_type": "code",
   "execution_count": null,
   "id": "f7ea07b5-0e0b-4d6b-a395-7524753e4cb7",
   "metadata": {},
   "outputs": [],
   "source": [
    "l = [1,2,3,4,5]\n",
    "l[:5]"
   ]
  },
  {
   "cell_type": "code",
   "execution_count": null,
   "id": "91817479-8299-4f61-8475-f22d80585e6d",
   "metadata": {},
   "outputs": [],
   "source": [
    "# import requests\n",
    "# import os\n",
    "# import re\n",
    "\n",
    "# for j in range(220,len(nodata_files)):\n",
    "#     the_id = nodata_files[j]\n",
    "#     bird_path = os.path.join(\"xeno_data\", the_id)# 鳥種フォルダ作成\n",
    "#     os.makedirs(bird_path, exist_ok=True)\n",
    "\n",
    "#     i = 0\n",
    "#     if the_id in Xeno2sound_ids:\n",
    "#         s = 0\n",
    "#         for sound_id in Xeno2sound_ids[the_id]:\n",
    "#             if s > 100:\n",
    "#                 break\n",
    "#             else:\n",
    "#                 try:\n",
    "#                     print('\\r%d / %d   :  %d / %d                  ' % (j, len(Xeno2sound_ids), i, len(Xeno2sound_ids[the_id])), end='')\n",
    "#                     sound_num = str(sound_id[2:])  # XC削除\n",
    "#                     sound_path = os.path.join(\"xeno_data\", the_id, sound_num + \".mp3\")\n",
    "                    \n",
    "#                     # ここでファイルの存在をチェック\n",
    "#                     if not os.path.exists(sound_path):\n",
    "#                         audio_response = requests.get(\"https://xeno-canto.org/\" + sound_num + \"/download\")\n",
    "#                         with open(sound_path, 'wb') as f:\n",
    "#                             f.write(audio_response.content)\n",
    "#                         i = i + 1\n",
    "#                     else:\n",
    "#                         print(f\"\\nFile {sound_num}.mp3 already exists, skipping download.\")\n",
    "                    \n",
    "#                     s = s + 1\n",
    "#                 except:\n",
    "#                     print('\\r%d / %d   :  %d / %d  error           ' %(j, len(Xeno2sound_ids), i, len(Xeno2sound_ids[the_id])), end='')\n",
    "#                     error.append([the_id,sound_id])\n",
    "#                     s = s + 1"
   ]
  },
  {
   "cell_type": "code",
   "execution_count": null,
   "id": "3d8d337d-2832-4e56-a26d-bb15513c22e0",
   "metadata": {},
   "outputs": [],
   "source": [
    "# error"
   ]
  }
 ],
 "metadata": {
  "kernelspec": {
   "display_name": "Python 3 (ipykernel)",
   "language": "python",
   "name": "python3"
  },
  "language_info": {
   "codemirror_mode": {
    "name": "ipython",
    "version": 3
   },
   "file_extension": ".py",
   "mimetype": "text/x-python",
   "name": "python",
   "nbconvert_exporter": "python",
   "pygments_lexer": "ipython3",
   "version": "3.12.4"
  }
 },
 "nbformat": 4,
 "nbformat_minor": 5
}
