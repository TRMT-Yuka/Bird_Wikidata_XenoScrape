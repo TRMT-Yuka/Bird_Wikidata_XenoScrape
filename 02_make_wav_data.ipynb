{
 "cells": [
  {
   "cell_type": "markdown",
   "id": "f7b8bf5c-5864-4406-8c11-e06a63a0453d",
   "metadata": {},
   "source": [
    "## 現在のファイル状態の確認"
   ]
  },
  {
   "cell_type": "code",
   "execution_count": 1,
   "id": "3f17e06d-b6ee-4130-b4fc-144892a0046c",
   "metadata": {},
   "outputs": [],
   "source": [
    "import pandas as pd\n",
    "import os\n",
    "from mymodule import save_bin,read_bin,directory_to_dict\n",
    "\n",
    "Xeno2sound_ids = read_bin(\"saved_data/Xeno2sound_ids_all.bin\")\n",
    "\n",
    "directory_path = './xeno_data'\n",
    "result = directory_to_dict(directory_path)"
   ]
  },
  {
   "cell_type": "code",
   "execution_count": 2,
   "id": "becab7e1-62d3-47a2-a237-886135dbc401",
   "metadata": {},
   "outputs": [],
   "source": [
    "df = pd.read_csv(\"saved_data/id2Xeno.csv\",header = None)# 順番通りに取得する必要があるため\n",
    "the_ids = list(df[0])[1:]\n",
    "xeno_canto_id = list(df[1])[1:]"
   ]
  },
  {
   "cell_type": "code",
   "execution_count": 3,
   "id": "be159d0f-1699-468c-a855-7931105a4f29",
   "metadata": {},
   "outputs": [],
   "source": [
    "Wiki2Xeno = dict()\n",
    "for k,v in zip(the_ids,xeno_canto_id):\n",
    "    Wiki2Xeno[k] = v"
   ]
  },
  {
   "cell_type": "code",
   "execution_count": 8,
   "id": "3692f4da-5361-4603-a938-810036023725",
   "metadata": {},
   "outputs": [
    {
     "name": "stdout",
     "output_type": "stream",
     "text": [
      "1038\n"
     ]
    }
   ],
   "source": [
    "# # #ファイルが一つもないディレクトリ\n",
    "# nodata_files = []\n",
    "# for the_id in the_ids:\n",
    "#     if the_id in result and result[the_id] == []:\n",
    "#         nodata_files.append(the_id)\n",
    "\n",
    "# print(len(nodata_files))"
   ]
  },
  {
   "cell_type": "code",
   "execution_count": 9,
   "id": "309cf822-f252-4e43-9da2-3a080df2725d",
   "metadata": {},
   "outputs": [
    {
     "name": "stdout",
     "output_type": "stream",
     "text": [
      "0\n"
     ]
    }
   ],
   "source": [
    "# #ファイルが欠損したディレクトリ（101未満かつ本来のファイル数に満たない）\n",
    "# lack_files = []\n",
    "# lack_files_num = []\n",
    "# for the_id in the_ids:\n",
    "#     if the_id in result and the_id in Xeno2sound_ids:\n",
    "#         if result[the_id] != []:\n",
    "#             if len(result[the_id])>=101:\n",
    "#                 pass\n",
    "#             else:\n",
    "#                 d = len(Xeno2sound_ids[the_id])-len(result[the_id])\n",
    "#                 if d!=0:\n",
    "#                     lack_files.append(the_id)\n",
    "#                     lack_files_num.append(d)\n",
    "\n",
    "# print(len(lack_files))"
   ]
  },
  {
   "cell_type": "code",
   "execution_count": 10,
   "id": "d3a034de-3564-4f96-91e2-c17fb05bc4ce",
   "metadata": {},
   "outputs": [
    {
     "name": "stdout",
     "output_type": "stream",
     "text": [
      "0\n"
     ]
    }
   ],
   "source": [
    "# # そもそも存在しないディレクトリ\n",
    "# not_in_Xeno2sound_ids_files = []\n",
    "# for the_id in the_ids:\n",
    "#     if the_id in result:\n",
    "#         if the_id not in Xeno2sound_ids:\n",
    "#             not_in_Xeno2sound_ids_files.append(the_id)\n",
    "\n",
    "# print(len(not_in_Xeno2sound_ids_files))"
   ]
  },
  {
   "cell_type": "markdown",
   "id": "b04d07dd-c132-4b83-8b74-9de56ac733f6",
   "metadata": {},
   "source": [
    "## 学習用parquetデータの作成"
   ]
  },
  {
   "cell_type": "code",
   "execution_count": 2,
   "id": "9c4adbae-c0b1-49bf-af0f-a7ed83ad91a1",
   "metadata": {},
   "outputs": [],
   "source": [
    "from mymodule import save_bin,read_bin,directory_to_dict\n",
    "import os\n",
    "\n",
    "Xeno2sound_ids = read_bin(\"saved_data/Xeno2sound_ids_all.bin\")\n",
    "\n",
    "directory_path = './xeno_data'\n",
    "result = directory_to_dict(directory_path)"
   ]
  },
  {
   "cell_type": "code",
   "execution_count": 6,
   "id": "d2363cb5-626d-497e-a1a2-b505e2f96aba",
   "metadata": {},
   "outputs": [],
   "source": [
    "# result\n",
    "# 'Q15707891': ['135990.mp3',\n",
    "#   '207967.mp3',\n",
    "#   '244119.mp3',\n",
    "#   '28890.mp3',"
   ]
  },
  {
   "cell_type": "code",
   "execution_count": 7,
   "id": "f782f5a4-dcab-4e0e-b709-abe14e57255a",
   "metadata": {},
   "outputs": [],
   "source": [
    "# result"
   ]
  },
  {
   "cell_type": "code",
   "execution_count": 63,
   "id": "3fccf548-996e-4313-b892-4085ea8f3ba6",
   "metadata": {},
   "outputs": [],
   "source": [
    "#＃実験用小規模データ resultの代わりに入れる\n",
    "# result_part=dict()\n",
    "# for a_id in l:\n",
    "#     result_part[a_id] = result[a_id]"
   ]
  },
  {
   "cell_type": "code",
   "execution_count": null,
   "id": "892ab5ea-9d17-4a74-bf5c-bcc231f2a97d",
   "metadata": {},
   "outputs": [
    {
     "name": "stdout",
     "output_type": "stream",
     "text": [
      "8900 + 3100 / 3601"
     ]
    }
   ],
   "source": [
    "import os\n",
    "import pandas as pd\n",
    "from pydub import AudioSegment\n",
    "\n",
    "data = []\n",
    "error = []\n",
    "start = 500\n",
    "\n",
    "i = 0\n",
    "for bird_id,sound_ids in result.items():#len(result):9684\n",
    "    if i > 500:\n",
    "        print('\\r8900 + %d / %d' %(i, len(result)), end='')\n",
    "        for sound_id in sound_ids:\n",
    "            try:\n",
    "                file_path = os.path.join(\"xeno_data\",bird_id, sound_id)\n",
    "                audio = AudioSegment.from_mp3(file_path)\n",
    "                wav_data = audio.export(format=\"wav\").read()\n",
    "                wav_dict = {\"bytes\":wav_data,\"path\":None}\n",
    "                data.append([sound_id.replace(\".mp3\",\"\"),wav_dict,bird_id])\n",
    "            except:\n",
    "                error.append(file_path)\n",
    "        if i % 100 == 0 or i == len(result)-1:\n",
    "            # DataFrameを作成\n",
    "            data_df = pd.DataFrame(data, columns=[\"s_id\",\"audio\",\"description\"])\n",
    "            del data\n",
    "            data_df.set_index(\"s_id\", inplace=True)\n",
    "            data_df.index.name = None\n",
    "            try:\n",
    "                data_df.to_parquet('D:/wav_model_data/all_xeno_~'+str(8900+i)+'.parquet')\n",
    "            except:\n",
    "                data_df.to_parquet('./wav_model_data/all_xeno_~'+str(8900+i)+'.parquet')\n",
    "            del data_df\n",
    "            data = []\n",
    "    i = i + 1\n",
    "# 5600 / 9684"
   ]
  },
  {
   "cell_type": "code",
   "execution_count": 8,
   "id": "fa05943b-546b-434f-ad1c-f07ed4e8d9b8",
   "metadata": {},
   "outputs": [],
   "source": [
    "data_df.to_parquet('./wav_model_data/all_xeno_~'+str(6300+i)+'.parquet')\n",
    "# del data_df\n",
    "# data = []"
   ]
  },
  {
   "cell_type": "code",
   "execution_count": null,
   "id": "5ded56d6-84e9-4620-8758-a7bc42b810ac",
   "metadata": {},
   "outputs": [],
   "source": [
    "# del data_df\n",
    "# data = []"
   ]
  },
  {
   "cell_type": "code",
   "execution_count": null,
   "id": "6d89edea-a56c-472f-a638-bbeea435a6af",
   "metadata": {},
   "outputs": [],
   "source": [
    "len(data_df)"
   ]
  },
  {
   "cell_type": "code",
   "execution_count": null,
   "id": "d2f4aca9-6767-4a99-86c8-f2dd7b3c1f2e",
   "metadata": {},
   "outputs": [],
   "source": [
    "start = 0"
   ]
  },
  {
   "cell_type": "code",
   "execution_count": 10,
   "id": "108e51a9-6c99-4344-b6b1-76843f0680ae",
   "metadata": {},
   "outputs": [
    {
     "name": "stdout",
     "output_type": "stream",
     "text": [
      "5884 / 5885"
     ]
    }
   ],
   "source": [
    "file_list = []\n",
    "j = 0\n",
    "start = 3600\n",
    "for bird_id,sound_ids in result.items():#len(result):9684\n",
    "    print('\\r%d / %d' %(j, 5885), end='')\n",
    "    if j > start and j < 5885:\n",
    "        file_list.append(bird_id)\n",
    "    j = j + 1"
   ]
  },
  {
   "cell_type": "code",
   "execution_count": 11,
   "id": "37d890d4-0254-4c9d-a177-73802cd93039",
   "metadata": {},
   "outputs": [
    {
     "data": {
      "text/plain": [
       "2284"
      ]
     },
     "execution_count": 11,
     "metadata": {},
     "output_type": "execute_result"
    }
   ],
   "source": [
    "len(file_list)"
   ]
  },
  {
   "cell_type": "code",
   "execution_count": 12,
   "id": "19db0919-ad3a-481f-857a-48902dc90674",
   "metadata": {},
   "outputs": [],
   "source": [
    "import os\n",
    "# リネーム処理\n",
    "for file_name in file_list:\n",
    "    old_path = os.path.join(\"xeno_data\",file_name)\n",
    "    new_path = os.path.join(\"done\",file_name)\n",
    "    if os.path.exists(old_path):  # 元ファイルが存在するか確認\n",
    "        os.rename(old_path, new_path)\n",
    "    else:\n",
    "        print(f\"File '{old_name}' does not exist.\")"
   ]
  },
  {
   "cell_type": "code",
   "execution_count": 29,
   "id": "2c9b52f6-d5ae-495b-ad62-17fd8bc657d4",
   "metadata": {},
   "outputs": [],
   "source": [
    "# checks"
   ]
  },
  {
   "cell_type": "code",
   "execution_count": 10,
   "id": "b2b5dc3f-64ad-439b-bf1e-d403f3732290",
   "metadata": {},
   "outputs": [],
   "source": [
    "import numpy as np"
   ]
  },
  {
   "cell_type": "code",
   "execution_count": 30,
   "id": "bc56a4d1-0fa3-4f99-9a00-1e2f47f2a3d1",
   "metadata": {},
   "outputs": [
    {
     "data": {
      "text/plain": [
       "9684"
      ]
     },
     "execution_count": 30,
     "metadata": {},
     "output_type": "execute_result"
    }
   ],
   "source": [
    "i"
   ]
  },
  {
   "cell_type": "code",
   "execution_count": null,
   "id": "073f6c30-61b4-4d80-8256-aec25ccf6b81",
   "metadata": {},
   "outputs": [
    {
     "name": "stderr",
     "output_type": "stream",
     "text": [
      "C:\\Users\\momo1\\Projects\\env_webscraper\\Lib\\site-packages\\numpy\\_core\\fromnumeric.py:57: FutureWarning: 'DataFrame.swapaxes' is deprecated and will be removed in a future version. Please use 'DataFrame.transpose' instead.\n",
      "  return bound(*args, **kwds)\n"
     ]
    }
   ],
   "source": [
    "num_splits = 3\n",
    "dfs = np.array_split(data_df, num_splits)\n",
    "\n",
    "# 結果表示\n",
    "for n, split_df in enumerate(dfs):\n",
    "    print(f\"DataFrame {n+1}:\\n{split_df}\\n\")\n",
    "    split_df.to_parquet('wav_model_data/all_xeno_~'+str(i)+'-'+str(n+1)+'.parquet')"
   ]
  },
  {
   "cell_type": "code",
   "execution_count": null,
   "id": "224f79ab-70d0-42c8-a571-1af64c4fb0b5",
   "metadata": {},
   "outputs": [],
   "source": [
    "# del data"
   ]
  },
  {
   "cell_type": "code",
   "execution_count": null,
   "id": "d0ea950f-6779-479c-a20e-535e2bbc185b",
   "metadata": {},
   "outputs": [],
   "source": [
    "# data_df.to_parquet('wav_model_data/all_xeno_~'+str(i)+'.parquet')"
   ]
  },
  {
   "cell_type": "code",
   "execution_count": null,
   "id": "046823c5-64df-4bbf-9041-40d2d5b543be",
   "metadata": {},
   "outputs": [],
   "source": [
    "len(data_df)"
   ]
  },
  {
   "cell_type": "code",
   "execution_count": 72,
   "id": "078edfcb-700a-45f6-b8ea-bf664d10f466",
   "metadata": {},
   "outputs": [
    {
     "name": "stdout",
     "output_type": "stream",
     "text": [
      "                                                    audio description\n",
      "204670  {'bytes': b'RIFF(\\x02\\xaf\\x00WAVEfmt \\x10\\x00\\...    Q1000262\n",
      "280373  {'bytes': b'RIFF$\\xc0*\\x00WAVEfmt \\x10\\x00\\x00...    Q1000262\n",
      "280375  {'bytes': b'RIFF$b=\\x00WAVEfmt \\x10\\x00\\x00\\x0...    Q1000262\n",
      "165127  {'bytes': b'RIFF$\\x0f9\\x00WAVEfmt \\x10\\x00\\x00...    Q1000977\n",
      "184094  {'bytes': b'RIFF\\xe4\\x81h\\x00WAVEfmt \\x10\\x00\\...    Q1000977\n",
      "184095  {'bytes': b'RIFF\\xbcF\\x17\\x00WAVEfmt \\x10\\x00\\...    Q1000977\n",
      "246707  {'bytes': b'RIFF\\xc4\\x9bc\\x00WAVEfmt \\x10\\x00\\...    Q1001580\n",
      "246708  {'bytes': b'RIFF4\\x8aT\\x00WAVEfmt \\x10\\x00\\x00...    Q1001580\n",
      "24686   {'bytes': b'RIFF$\\xed!\\x00WAVEfmt \\x10\\x00\\x00...    Q1001580\n"
     ]
    }
   ],
   "source": [
    "print(data_df)"
   ]
  },
  {
   "cell_type": "code",
   "execution_count": 73,
   "id": "f5cb51a2-ce02-4246-a8b3-39f6c6680507",
   "metadata": {},
   "outputs": [],
   "source": [
    "data_df.to_parquet('wav_model_data/all_xeno.parquet')"
   ]
  },
  {
   "cell_type": "code",
   "execution_count": 100,
   "id": "73b4a708-bf17-4c62-b7e4-402a5087d637",
   "metadata": {},
   "outputs": [],
   "source": [
    "from sklearn.model_selection import KFold\n",
    "\n",
    "kf = KFold(n_splits=3, shuffle=True, random_state=101)\n",
    "\n",
    "for i, (train_i, test_i) in enumerate(kf.split(data_df)):\n",
    "    train_df = data_df.iloc[train_i]\n",
    "    test_df = data_df.iloc[test_i]\n",
    "    train_df.to_parquet(f'wav_model_data/train_{i+1}.parquet')\n",
    "    test_df.to_parquet(f'wav_model_data/test_{i+1}.parquet')"
   ]
  },
  {
   "cell_type": "code",
   "execution_count": 101,
   "id": "e4e650ce-75d0-48e5-b419-a07f421f9fe9",
   "metadata": {},
   "outputs": [],
   "source": [
    "# 以降データチェック"
   ]
  },
  {
   "cell_type": "code",
   "execution_count": 102,
   "id": "060c0009-cd67-44fc-95c8-154dd4c1544a",
   "metadata": {},
   "outputs": [],
   "source": [
    "df = pd.read_parquet('wav_model_data/train_3.parquet')#10313"
   ]
  },
  {
   "cell_type": "code",
   "execution_count": 103,
   "id": "b6fa1f34-5b3d-417a-9670-eddcceed7604",
   "metadata": {},
   "outputs": [
    {
     "data": {
      "text/plain": [
       "9"
      ]
     },
     "execution_count": 103,
     "metadata": {},
     "output_type": "execute_result"
    }
   ],
   "source": [
    "len(data_df)"
   ]
  },
  {
   "cell_type": "code",
   "execution_count": 104,
   "id": "8eb13040-c8c1-4284-bc1b-4bcbd2df031f",
   "metadata": {},
   "outputs": [
    {
     "data": {
      "text/html": [
       "<div>\n",
       "<style scoped>\n",
       "    .dataframe tbody tr th:only-of-type {\n",
       "        vertical-align: middle;\n",
       "    }\n",
       "\n",
       "    .dataframe tbody tr th {\n",
       "        vertical-align: top;\n",
       "    }\n",
       "\n",
       "    .dataframe thead th {\n",
       "        text-align: right;\n",
       "    }\n",
       "</style>\n",
       "<table border=\"1\" class=\"dataframe\">\n",
       "  <thead>\n",
       "    <tr style=\"text-align: right;\">\n",
       "      <th></th>\n",
       "      <th>audio</th>\n",
       "      <th>description</th>\n",
       "    </tr>\n",
       "  </thead>\n",
       "  <tbody>\n",
       "    <tr>\n",
       "      <th>204670</th>\n",
       "      <td>{'bytes': b'RIFF(\\x02\\xaf\\x00WAVEfmt \\x10\\x00\\...</td>\n",
       "      <td>Q1000262</td>\n",
       "    </tr>\n",
       "    <tr>\n",
       "      <th>280373</th>\n",
       "      <td>{'bytes': b'RIFF$\\xc0*\\x00WAVEfmt \\x10\\x00\\x00...</td>\n",
       "      <td>Q1000262</td>\n",
       "    </tr>\n",
       "    <tr>\n",
       "      <th>280375</th>\n",
       "      <td>{'bytes': b'RIFF$b=\\x00WAVEfmt \\x10\\x00\\x00\\x0...</td>\n",
       "      <td>Q1000262</td>\n",
       "    </tr>\n",
       "    <tr>\n",
       "      <th>165127</th>\n",
       "      <td>{'bytes': b'RIFF$\\x0f9\\x00WAVEfmt \\x10\\x00\\x00...</td>\n",
       "      <td>Q1000977</td>\n",
       "    </tr>\n",
       "    <tr>\n",
       "      <th>184094</th>\n",
       "      <td>{'bytes': b'RIFF\\xe4\\x81h\\x00WAVEfmt \\x10\\x00\\...</td>\n",
       "      <td>Q1000977</td>\n",
       "    </tr>\n",
       "    <tr>\n",
       "      <th>184095</th>\n",
       "      <td>{'bytes': b'RIFF\\xbcF\\x17\\x00WAVEfmt \\x10\\x00\\...</td>\n",
       "      <td>Q1000977</td>\n",
       "    </tr>\n",
       "    <tr>\n",
       "      <th>246707</th>\n",
       "      <td>{'bytes': b'RIFF\\xc4\\x9bc\\x00WAVEfmt \\x10\\x00\\...</td>\n",
       "      <td>Q1001580</td>\n",
       "    </tr>\n",
       "    <tr>\n",
       "      <th>246708</th>\n",
       "      <td>{'bytes': b'RIFF4\\x8aT\\x00WAVEfmt \\x10\\x00\\x00...</td>\n",
       "      <td>Q1001580</td>\n",
       "    </tr>\n",
       "    <tr>\n",
       "      <th>24686</th>\n",
       "      <td>{'bytes': b'RIFF$\\xed!\\x00WAVEfmt \\x10\\x00\\x00...</td>\n",
       "      <td>Q1001580</td>\n",
       "    </tr>\n",
       "  </tbody>\n",
       "</table>\n",
       "</div>"
      ],
      "text/plain": [
       "                                                    audio description\n",
       "204670  {'bytes': b'RIFF(\\x02\\xaf\\x00WAVEfmt \\x10\\x00\\...    Q1000262\n",
       "280373  {'bytes': b'RIFF$\\xc0*\\x00WAVEfmt \\x10\\x00\\x00...    Q1000262\n",
       "280375  {'bytes': b'RIFF$b=\\x00WAVEfmt \\x10\\x00\\x00\\x0...    Q1000262\n",
       "165127  {'bytes': b'RIFF$\\x0f9\\x00WAVEfmt \\x10\\x00\\x00...    Q1000977\n",
       "184094  {'bytes': b'RIFF\\xe4\\x81h\\x00WAVEfmt \\x10\\x00\\...    Q1000977\n",
       "184095  {'bytes': b'RIFF\\xbcF\\x17\\x00WAVEfmt \\x10\\x00\\...    Q1000977\n",
       "246707  {'bytes': b'RIFF\\xc4\\x9bc\\x00WAVEfmt \\x10\\x00\\...    Q1001580\n",
       "246708  {'bytes': b'RIFF4\\x8aT\\x00WAVEfmt \\x10\\x00\\x00...    Q1001580\n",
       "24686   {'bytes': b'RIFF$\\xed!\\x00WAVEfmt \\x10\\x00\\x00...    Q1001580"
      ]
     },
     "execution_count": 104,
     "metadata": {},
     "output_type": "execute_result"
    }
   ],
   "source": [
    "data_df"
   ]
  },
  {
   "cell_type": "code",
   "execution_count": 105,
   "id": "81542433-d9ff-474d-be1c-fc811f0d88ec",
   "metadata": {},
   "outputs": [
    {
     "data": {
      "text/plain": [
       "6"
      ]
     },
     "execution_count": 105,
     "metadata": {},
     "output_type": "execute_result"
    }
   ],
   "source": [
    "len(df)"
   ]
  },
  {
   "cell_type": "code",
   "execution_count": 106,
   "id": "196f02eb-7b2f-4836-a52b-1392cb3fd332",
   "metadata": {},
   "outputs": [
    {
     "data": {
      "text/html": [
       "<div>\n",
       "<style scoped>\n",
       "    .dataframe tbody tr th:only-of-type {\n",
       "        vertical-align: middle;\n",
       "    }\n",
       "\n",
       "    .dataframe tbody tr th {\n",
       "        vertical-align: top;\n",
       "    }\n",
       "\n",
       "    .dataframe thead th {\n",
       "        text-align: right;\n",
       "    }\n",
       "</style>\n",
       "<table border=\"1\" class=\"dataframe\">\n",
       "  <thead>\n",
       "    <tr style=\"text-align: right;\">\n",
       "      <th></th>\n",
       "      <th>audio</th>\n",
       "      <th>description</th>\n",
       "    </tr>\n",
       "  </thead>\n",
       "  <tbody>\n",
       "    <tr>\n",
       "      <th>204670</th>\n",
       "      <td>{'bytes': b'RIFF(\\x02\\xaf\\x00WAVEfmt \\x10\\x00\\...</td>\n",
       "      <td>Q1000262</td>\n",
       "    </tr>\n",
       "    <tr>\n",
       "      <th>280375</th>\n",
       "      <td>{'bytes': b'RIFF$b=\\x00WAVEfmt \\x10\\x00\\x00\\x0...</td>\n",
       "      <td>Q1000262</td>\n",
       "    </tr>\n",
       "    <tr>\n",
       "      <th>165127</th>\n",
       "      <td>{'bytes': b'RIFF$\\x0f9\\x00WAVEfmt \\x10\\x00\\x00...</td>\n",
       "      <td>Q1000977</td>\n",
       "    </tr>\n",
       "    <tr>\n",
       "      <th>184094</th>\n",
       "      <td>{'bytes': b'RIFF\\xe4\\x81h\\x00WAVEfmt \\x10\\x00\\...</td>\n",
       "      <td>Q1000977</td>\n",
       "    </tr>\n",
       "    <tr>\n",
       "      <th>246708</th>\n",
       "      <td>{'bytes': b'RIFF4\\x8aT\\x00WAVEfmt \\x10\\x00\\x00...</td>\n",
       "      <td>Q1001580</td>\n",
       "    </tr>\n",
       "    <tr>\n",
       "      <th>24686</th>\n",
       "      <td>{'bytes': b'RIFF$\\xed!\\x00WAVEfmt \\x10\\x00\\x00...</td>\n",
       "      <td>Q1001580</td>\n",
       "    </tr>\n",
       "  </tbody>\n",
       "</table>\n",
       "</div>"
      ],
      "text/plain": [
       "                                                    audio description\n",
       "204670  {'bytes': b'RIFF(\\x02\\xaf\\x00WAVEfmt \\x10\\x00\\...    Q1000262\n",
       "280375  {'bytes': b'RIFF$b=\\x00WAVEfmt \\x10\\x00\\x00\\x0...    Q1000262\n",
       "165127  {'bytes': b'RIFF$\\x0f9\\x00WAVEfmt \\x10\\x00\\x00...    Q1000977\n",
       "184094  {'bytes': b'RIFF\\xe4\\x81h\\x00WAVEfmt \\x10\\x00\\...    Q1000977\n",
       "246708  {'bytes': b'RIFF4\\x8aT\\x00WAVEfmt \\x10\\x00\\x00...    Q1001580\n",
       "24686   {'bytes': b'RIFF$\\xed!\\x00WAVEfmt \\x10\\x00\\x00...    Q1001580"
      ]
     },
     "execution_count": 106,
     "metadata": {},
     "output_type": "execute_result"
    }
   ],
   "source": [
    "df"
   ]
  },
  {
   "cell_type": "code",
   "execution_count": null,
   "id": "f23e2cd1-97fc-441e-8a45-e667ab69837b",
   "metadata": {},
   "outputs": [],
   "source": []
  }
 ],
 "metadata": {
  "kernelspec": {
   "display_name": "Python 3 (ipykernel)",
   "language": "python",
   "name": "python3"
  },
  "language_info": {
   "codemirror_mode": {
    "name": "ipython",
    "version": 3
   },
   "file_extension": ".py",
   "mimetype": "text/x-python",
   "name": "python",
   "nbconvert_exporter": "python",
   "pygments_lexer": "ipython3",
   "version": "3.12.4"
  }
 },
 "nbformat": 4,
 "nbformat_minor": 5
}
