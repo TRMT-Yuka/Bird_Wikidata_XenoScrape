{
 "cells": [
  {
   "cell_type": "markdown",
   "id": "f7b8bf5c-5864-4406-8c11-e06a63a0453d",
   "metadata": {},
   "source": [
    "## 現在のファイル状態の確認"
   ]
  },
  {
   "cell_type": "code",
   "execution_count": null,
   "id": "3f17e06d-b6ee-4130-b4fc-144892a0046c",
   "metadata": {},
   "outputs": [],
   "source": [
    "# import pandas as pd\n",
    "# import os\n",
    "# from mymodule import save_bin,read_bin,directory_to_dict\n",
    "\n",
    "# Xeno2sound_ids = read_bin(\"saved_data/Xeno2sound_ids_all.bin\")\n",
    "\n",
    "# directory_path = 'E:\\\\xeno_data'\n",
    "# result = directory_to_dict(directory_path)"
   ]
  },
  {
   "cell_type": "code",
   "execution_count": null,
   "id": "becab7e1-62d3-47a2-a237-886135dbc401",
   "metadata": {},
   "outputs": [],
   "source": [
    "# df = pd.read_csv(\"saved_data/id2Xeno.csv\",header = None)# 順番通りに取得する必要があるため\n",
    "# the_ids = list(df[0])[1:]\n",
    "# xeno_canto_id = list(df[1])[1:]"
   ]
  },
  {
   "cell_type": "code",
   "execution_count": null,
   "id": "be159d0f-1699-468c-a855-7931105a4f29",
   "metadata": {},
   "outputs": [],
   "source": [
    "# Wiki2Xeno = dict()\n",
    "# for k,v in zip(the_ids,xeno_canto_id):\n",
    "#     Wiki2Xeno[k] = v"
   ]
  },
  {
   "cell_type": "code",
   "execution_count": null,
   "id": "3692f4da-5361-4603-a938-810036023725",
   "metadata": {},
   "outputs": [
    {
     "name": "stdout",
     "output_type": "stream",
     "text": [
      "nodata files: 378\n",
      "lack_files: 0\n",
      "not_in_Xeno2sound_ids_files: 0\n"
     ]
    }
   ],
   "source": [
    "# # #ファイルが一つもないディレクトリを確認\n",
    "# nodata_files = []\n",
    "# for the_id in the_ids:\n",
    "#     if the_id in result and result[the_id] == []:\n",
    "#         nodata_files.append(the_id)\n",
    "\n",
    "# #ファイルが欠損したディレクトリ（101未満かつ本来のファイル数に満たない）\n",
    "# lack_files = []\n",
    "# lack_files_num = []\n",
    "# for the_id in the_ids:\n",
    "#     if the_id in result and the_id in Xeno2sound_ids:\n",
    "#         if result[the_id] != []:\n",
    "#             if len(result[the_id])>=101:\n",
    "#                 pass\n",
    "#             else:\n",
    "#                 d = len(Xeno2sound_ids[the_id])-len(result[the_id])\n",
    "#                 if d!=0:\n",
    "#                     lack_files.append(the_id)\n",
    "#                     lack_files_num.append(d)\n",
    "\n",
    "# # そもそも存在しないディレクトリ\n",
    "# not_in_Xeno2sound_ids_files = []\n",
    "# for the_id in the_ids:\n",
    "#     if the_id in result:\n",
    "#         if the_id not in Xeno2sound_ids:\n",
    "#             not_in_Xeno2sound_ids_files.append(the_id)\n",
    "\n",
    "\n",
    "# print(\"nodata files:\",len(nodata_files))\n",
    "# print(\"lack_files:\",len(lack_files))\n",
    "# print(\"not_in_Xeno2sound_ids_files:\",len(not_in_Xeno2sound_ids_files))"
   ]
  },
  {
   "cell_type": "markdown",
   "id": "b04d07dd-c132-4b83-8b74-9de56ac733f6",
   "metadata": {},
   "source": [
    "## 学習用parquetデータの作成"
   ]
  },
  {
   "cell_type": "code",
   "execution_count": 2,
   "id": "9c4adbae-c0b1-49bf-af0f-a7ed83ad91a1",
   "metadata": {},
   "outputs": [],
   "source": [
    "from mymodule import save_bin,read_bin,directory_to_dict\n",
    "import os\n",
    "\n",
    "# ディレクトリ=>辞書=>タプル\n",
    "# result = directory_to_dict('E:\\\\xeno_data')\n",
    "# xeno_data_tuple = set()\n",
    "# for bird_id,sound_ids in result.items():\n",
    "#     for sound_id in sound_ids:\n",
    "#         xeno_data_tuple.add((bird_id,sound_id))\n",
    "\n",
    "# save_bin(\"./saved_data/xeno_data_tuple.bin\",xeno_data_tuple)\n",
    "# xeno_data_tuple = read_bin(\"./saved_data/xeno_data_tuple.bin\")#337644"
   ]
  },
  {
   "cell_type": "code",
   "execution_count": 24,
   "id": "693a313a",
   "metadata": {},
   "outputs": [
    {
     "name": "stdout",
     "output_type": "stream",
     "text": [
      "403230 / 0\n"
     ]
    }
   ],
   "source": [
    "# import importlib\n",
    "from mymodule3 import save_bin,read_bin,directory_to_dict,directory_to_tuple\n",
    "import os\n",
    "\n",
    "trimmed_xeno_data_tuple = directory_to_tuple(\"D:\\\\trimmed_xeno_data\")\n",
    "dowmload_xeno_data_tuple = directory_to_tuple(\"D:\\\\download_xeno_data\") \n",
    "\n",
    "print(len(trimmed_xeno_data_tuple),\"/\",len(dowmload_xeno_data_tuple))"
   ]
  },
  {
   "cell_type": "code",
   "execution_count": 25,
   "id": "20688117",
   "metadata": {},
   "outputs": [
    {
     "name": "stdout",
     "output_type": "stream",
     "text": [
      "0\n"
     ]
    }
   ],
   "source": [
    "target_set = list(dowmload_xeno_data_tuple - trimmed_xeno_data_tuple)\n",
    "target_set = list(target_set)\n",
    "print(len(target_set))\n",
    "\n",
    "# save_bin(\"saved_data/target_set.bin\",target_set)"
   ]
  },
  {
   "cell_type": "markdown",
   "id": "7f7fadb2",
   "metadata": {},
   "source": [
    "## 無音域削除，ファイル長統一"
   ]
  },
  {
   "cell_type": "code",
   "execution_count": 24,
   "id": "763d2c84",
   "metadata": {},
   "outputs": [],
   "source": [
    "# from mymodule2 import save_bin,read_bin,directory_to_dict,process_audio\n",
    "# n = 1\n",
    "\n",
    "# target_set = read_bin(\"saved_data/target_set.bin\")\n",
    "\n",
    "# x = 3000*(n-1)\n",
    "# y = x + 3000\n",
    "\n",
    "# target_set = target_set[x:y]\n",
    "# print(x,y)\n",
    "\n",
    "# i=0\n",
    "# for input_tuple in target_set:\n",
    "#     print('\\r%d / %d' %(i, len(target_set)), end='')\n",
    "#     process_audio(input_tuple)\n",
    "#     i+=1"
   ]
  },
  {
   "cell_type": "code",
   "execution_count": 4,
   "id": "38099a6f",
   "metadata": {},
   "outputs": [],
   "source": [
    "import os\n",
    "from concurrent.futures import ProcessPoolExecutor, as_completed\n",
    "from pydub import AudioSegment\n",
    "from pydub.silence import split_on_silence\n",
    "\n",
    "\n",
    "# path = \"E:\\\\xeno_data\\\\\"\n",
    "# path_trimmed = \"E:\\\\trimmed_xeno_data\\\\\"\n",
    "\n",
    "path = \".\\\\xeno_data\"\n",
    "path_trimmed = \".\\\\trimmed_xeno_data\"\n",
    "\n",
    "\n",
    "def process_audio(input_tuple,path,path_trimmed):\n",
    "    try:\n",
    "        bird_id, sound_id = input_tuple\n",
    "        if os.path.exists(path+\"\\\\\"+bird_id):\n",
    "            sound = AudioSegment.from_mp3(path+\"\\\\\"+bird_id+\"\\\\\"+sound_id)\n",
    "            chunks = split_on_silence(\n",
    "                sound,\n",
    "                min_silence_len=500,  # 0.5秒以上の無音を検出\n",
    "                silence_thresh=-90    # -90dBFS 以下を無音と判定\n",
    "            )\n",
    "\n",
    "            combined = AudioSegment.empty()\n",
    "            for chunk in chunks:\n",
    "                combined += chunk\n",
    "\n",
    "            if len(combined) > 30_000:\n",
    "                combined = combined[:30_000]\n",
    "            \n",
    "            if not os.path.exists(path_trimmed+\"\\\\\"+bird_id):\n",
    "                os.makedirs(path_trimmed+\"\\\\\"+bird_id)\n",
    "                \n",
    "            combined.export(path_trimmed+\"\\\\\"+bird_id+\"\\\\\"+sound_id, format=\"mp3\")\n",
    "\n",
    "    except:\n",
    "        return input_tuple"
   ]
  },
  {
   "cell_type": "code",
   "execution_count": 2,
   "id": "4b7e9d79",
   "metadata": {},
   "outputs": [],
   "source": [
    "# from mymodule import save_bin,read_bin,directory_to_dict,directory_to_tuple\n",
    "# import os\n",
    "# from sklearn.model_selection import KFold\n",
    "\n",
    "# result = list(directory_to_tuple(\"D:\\\\trimmed_xeno_data\"))\n",
    "# kf = KFold(n_splits=5, shuffle=True, random_state=42)\n",
    "# kfold_5_test = []\n",
    "\n",
    "# for _, (_, test_index) in enumerate(kf.split(result), start=1):\n",
    "#     kfold_5_test.append([result[i] for i in test_index])"
   ]
  },
  {
   "cell_type": "code",
   "execution_count": 7,
   "id": "8e3f39cf",
   "metadata": {},
   "outputs": [],
   "source": [
    "del results"
   ]
  },
  {
   "cell_type": "code",
   "execution_count": 1,
   "id": "f5c785f8",
   "metadata": {},
   "outputs": [],
   "source": [
    "from mymodule import save_bin,read_bin,directory_to_dict,directory_to_tuple\n",
    "# save_bin(\"saved_data/kfold_5_test.bin\",results)\n",
    "# kfold_5_test = read_bin(\"saved_data/kfold_5_test.bin\")\n",
    "\n",
    "# kfold_5_train = []\n",
    "# for i in range(5):\n",
    "#     train = []\n",
    "#     for j in range(5):\n",
    "#         if i != j:\n",
    "#             train.extend(kfold_5_test[j])\n",
    "\n",
    "#     kfold_5_train.append(train) \n",
    "\n",
    "# save_bin(\"saved_data/kfold_5_train.bin\",kfold_5_train)\n",
    "kfold_5_train = read_bin(\"saved_data/kfold_5_train.bin\")"
   ]
  },
  {
   "cell_type": "code",
   "execution_count": null,
   "id": "8f8fc18a",
   "metadata": {},
   "outputs": [],
   "source": [
    "# path情報のみのparquetファイルの作成\n",
    "import os\n",
    "import pandas as pd\n",
    "from pydub import AudioSegment\n",
    "\n",
    "for x,train in enumerate(kfold_5_train):\n",
    "    data = []\n",
    "    i = 1\n",
    "    for bird_id,sound_id in train:\n",
    "        print('\\r%d : %d / %d' %(x, i, len(train)), end='')\n",
    "        file_path = os.path.join(\"trimmed_xeno_data\",bird_id, sound_id)\n",
    "        file_path_linux = file_path.replace(\"\\\\\",\"/\")\n",
    "        data.append([sound_id.replace(\".mp3\",\"\"),file_path_linux,bird_id])\n",
    "        i = i + 1\n",
    "    data_df = pd.DataFrame(data, columns=[\"s_id\",\"audio\",\"description\"])\n",
    "    data_df.set_index(\"s_id\", inplace=True)\n",
    "    data_df.index.name = None\n",
    "    data_df.to_parquet('E:\\\\wav_model_data\\\\'+str(x+1)+'_train.parquet')"
   ]
  },
  {
   "cell_type": "code",
   "execution_count": 24,
   "id": "c60c0ba8",
   "metadata": {},
   "outputs": [],
   "source": [
    "df = pd.read_parquet('E:\\\\wav_model_data\\\\5_train.parquet')"
   ]
  },
  {
   "cell_type": "code",
   "execution_count": 25,
   "id": "0a42e42c",
   "metadata": {},
   "outputs": [
    {
     "data": {
      "text/html": [
       "<div>\n",
       "<style scoped>\n",
       "    .dataframe tbody tr th:only-of-type {\n",
       "        vertical-align: middle;\n",
       "    }\n",
       "\n",
       "    .dataframe tbody tr th {\n",
       "        vertical-align: top;\n",
       "    }\n",
       "\n",
       "    .dataframe thead th {\n",
       "        text-align: right;\n",
       "    }\n",
       "</style>\n",
       "<table border=\"1\" class=\"dataframe\">\n",
       "  <thead>\n",
       "    <tr style=\"text-align: right;\">\n",
       "      <th></th>\n",
       "      <th>audio</th>\n",
       "      <th>description</th>\n",
       "    </tr>\n",
       "  </thead>\n",
       "  <tbody>\n",
       "  </tbody>\n",
       "</table>\n",
       "</div>"
      ],
      "text/plain": [
       "Empty DataFrame\n",
       "Columns: [audio, description]\n",
       "Index: []"
      ]
     },
     "execution_count": 25,
     "metadata": {},
     "output_type": "execute_result"
    }
   ],
   "source": [
    "df"
   ]
  },
  {
   "cell_type": "code",
   "execution_count": 14,
   "id": "22d3c3f9",
   "metadata": {},
   "outputs": [],
   "source": [
    "import pandas as pd\n",
    "import glob\n",
    "\n",
    "file_list = sorted(glob.glob(\"E:\\\\wav_model_data\\\\*.parquet\"))\n",
    "for i in range(1, 6):\n",
    "    test_file = f\"'E:\\\\wav_model_data\\\\{i}.parquet\"\n",
    "    train_files = [f for f in file_list if f != test_file]\n",
    "    train_df = pd.concat([pd.read_parquet(f) for f in train_files])\n",
    "    train_df.to_parquet('E:\\\\wav_model_data\\\\'+str(i)+'\\\\train.parquet', index=False)"
   ]
  },
  {
   "cell_type": "code",
   "execution_count": 15,
   "id": "118b5a3d",
   "metadata": {},
   "outputs": [
    {
     "name": "stdout",
     "output_type": "stream",
     "text": [
      "28\n",
      "28\n",
      "28\n",
      "28\n",
      "28\n"
     ]
    }
   ],
   "source": [
    "for i in range(1, 6):\n",
    "    test_file = f\"'E:\\\\wav_model_data\\\\{i}.parquet\"\n",
    "    print(len(test_file))"
   ]
  },
  {
   "cell_type": "code",
   "execution_count": null,
   "id": "08619aa3",
   "metadata": {},
   "outputs": [],
   "source": []
  },
  {
   "cell_type": "code",
   "execution_count": 1,
   "id": "5acacf8c",
   "metadata": {},
   "outputs": [],
   "source": [
    "# # origilal\n",
    "\n",
    "# import os\n",
    "# import pandas as pd\n",
    "# from pydub import AudioSegment\n",
    "\n",
    "# data = []\n",
    "# error = []\n",
    "# start = 0\n",
    "\n",
    "# i = 0\n",
    "\n",
    "# for bird_id,sound_ids in result[75]:\n",
    "#     print('\\r%d / %d' %(i, len(result)), end='')\n",
    "#     for sound_id in sound_ids:\n",
    "#         try:\n",
    "#             file_path = os.path.join(\"xeno_data\",bird_id, sound_id)\n",
    "#             audio = AudioSegment.from_mp3(file_path)\n",
    "#             wav_data = audio.export(format=\"wav\").read()\n",
    "#             wav_dict = {\"bytes\":wav_data,\"path\":None}\n",
    "#             data.append([sound_id.replace(\".mp3\",\"\"),wav_dict,bird_id])\n",
    "#         except:\n",
    "#             error.append(file_path)\n",
    "#     if i % 100 == 0 or i == len(result)-1:\n",
    "#         # DataFrameを作成\n",
    "#         data_df = pd.DataFrame(data, columns=[\"s_id\",\"audio\",\"description\"])\n",
    "#         del data\n",
    "#         data_df.set_index(\"s_id\", inplace=True)\n",
    "#         data_df.index.name = None\n",
    "#         try:\n",
    "#             data_df.to_parquet('E:\\\\wav_model_data\\\\all_xeno_~'+str(8900+i)+'.parquet')\n",
    "#         except:\n",
    "#             data_df.to_parquet('E\\\\wav_model_data\\\\all_xeno_~'+str(8900+i)+'.parquet')\n",
    "#         # del data_df\n",
    "#         data = []\n",
    "#     i = i + 1"
   ]
  }
 ],
 "metadata": {
  "kernelspec": {
   "display_name": "env_webscraper",
   "language": "python",
   "name": "python3"
  },
  "language_info": {
   "codemirror_mode": {
    "name": "ipython",
    "version": 3
   },
   "file_extension": ".py",
   "mimetype": "text/x-python",
   "name": "python",
   "nbconvert_exporter": "python",
   "pygments_lexer": "ipython3",
   "version": "3.12.4"
  }
 },
 "nbformat": 4,
 "nbformat_minor": 5
}
