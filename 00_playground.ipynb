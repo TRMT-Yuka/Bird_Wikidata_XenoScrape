{
 "cells": [
  {
   "cell_type": "code",
   "execution_count": 1,
   "id": "b8aabc18-5d63-49fa-9441-f2a015d82be7",
   "metadata": {},
   "outputs": [],
   "source": [
    "import pickle\n",
    "import pandas as pd\n",
    "    \n",
    "def read_bin(filename):\n",
    "    with open(filename,'rb') as bf:\n",
    "        bin_data = pd.read_pickle(bf)\n",
    "    return bin_data\n",
    "\n",
    "def save_bin(filename,data):\n",
    "    with open(filename,'wb') as bf:\n",
    "        pickle.dump(data,bf)"
   ]
  },
  {
   "cell_type": "code",
   "execution_count": 16,
   "id": "94d37850-4fd9-4cc4-89b6-6aaa0a532986",
   "metadata": {},
   "outputs": [],
   "source": [
    "ontology = read_bin(\"ontology.pickle\")\n",
    "all_Wiki = set([d[\"id\"] for d in ontology])"
   ]
  },
  {
   "cell_type": "code",
   "execution_count": 17,
   "id": "143ef58d-b0fe-4ff1-84af-d921a3d640b7",
   "metadata": {},
   "outputs": [
    {
     "data": {
      "text/plain": [
       "50646"
      ]
     },
     "execution_count": 17,
     "metadata": {},
     "output_type": "execute_result"
    }
   ],
   "source": [
    "len(all_Wiki)"
   ]
  },
  {
   "cell_type": "code",
   "execution_count": 18,
   "id": "4411e690-0e6a-4729-9cc9-421f617e5284",
   "metadata": {},
   "outputs": [],
   "source": [
    "import pandas as pd\n",
    "df = pd.read_csv(\"saved_data/id2Xeno.csv\",header = None)\n",
    "has_Xeno = set(list(df[1]))"
   ]
  },
  {
   "cell_type": "code",
   "execution_count": 19,
   "id": "eb0b0db4-c07d-4577-8504-721996f6a578",
   "metadata": {},
   "outputs": [
    {
     "data": {
      "text/plain": [
       "9588"
      ]
     },
     "execution_count": 19,
     "metadata": {},
     "output_type": "execute_result"
    }
   ],
   "source": [
    "len(has_Xeno)"
   ]
  },
  {
   "cell_type": "code",
   "execution_count": 20,
   "id": "62fdb6ba-f8b8-4237-a88c-1f512b6c37eb",
   "metadata": {},
   "outputs": [],
   "source": [
    "not_has_Xeno = all_Wiki - has_Xeno"
   ]
  },
  {
   "cell_type": "code",
   "execution_count": 23,
   "id": "ae37458b-743e-4f71-9724-aea2c5aa5daf",
   "metadata": {},
   "outputs": [
    {
     "data": {
      "text/plain": [
       "['Q27628144',\n",
       " 'Q22081801',\n",
       " 'Q62393042',\n",
       " 'Q15881283',\n",
       " 'Q40655905',\n",
       " 'Q27621239',\n",
       " 'Q40987608',\n",
       " 'Q40483787',\n",
       " 'Q7144159',\n",
       " 'Q27632289']"
      ]
     },
     "execution_count": 23,
     "metadata": {},
     "output_type": "execute_result"
    }
   ],
   "source": [
    "list(not_has_Xeno)[:10]"
   ]
  },
  {
   "cell_type": "code",
   "execution_count": 4,
   "id": "0b6767bb-9a5a-4f97-b949-510395a252ec",
   "metadata": {},
   "outputs": [],
   "source": [
    "the_ids = list(id2Xeno.keys())\n",
    "\n",
    "xeno_canto_ids = []\n",
    "for k in the_ids:\n",
    "    xeno_canto_ids.append(k)"
   ]
  },
  {
   "cell_type": "code",
   "execution_count": 28,
   "id": "91817479-8299-4f61-8475-f22d80585e6d",
   "metadata": {},
   "outputs": [],
   "source": [
    "# import requests\n",
    "# import os\n",
    "# import re\n",
    "\n",
    "# os.makedirs('xeno_data', exist_ok=True)\n",
    "# c = 0\n",
    "# error = []\n",
    "\n",
    "\n",
    "# for j in range(0,3):\n",
    "#     # try:\n",
    "#     the_id = the_ids[j]\n",
    "#     bird_path = os.path.join(\"xeno_data\", the_id)# 鳥種フォルダ作成\n",
    "#     os.makedirs(bird_path, exist_ok=True)\n",
    "\n",
    "#     i = 0\n",
    "#     for sound_id in id2sound_ids[the_id]:\n",
    "#         print('\\r%d / %d   :  %d / %d' %(j, 3, i, len(id2sound_ids[the_id])), end='')\n",
    "#         sound_num = str(sound_id[2:]) #XC削除\n",
    "#         sound_path = os.path.join(\"xeno_data\", the_id,sound_num+\".mp3\")\n",
    "\n",
    "#         audio_response = requests.get(\"https://xeno-canto.org/\"+sound_num+\"/download\")\n",
    "#         with open(sound_path, 'wb') as f:\n",
    "#             f.write(audio_response.content)\n",
    "#         i = i + 1 \n",
    "#     # except:\n",
    "#         # error.append(the_id)"
   ]
  },
  {
   "cell_type": "code",
   "execution_count": null,
   "id": "1dbf6917-1cc8-441d-bffb-8f426b14a879",
   "metadata": {},
   "outputs": [],
   "source": [
    "## 音源分離"
   ]
  },
  {
   "cell_type": "code",
   "execution_count": 30,
   "id": "6da60c5d-2daa-4173-9ad8-3ceb16997680",
   "metadata": {},
   "outputs": [
    {
     "name": "stderr",
     "output_type": "stream",
     "text": [
      "C:\\Users\\momo1\\AppData\\Local\\Temp\\ipykernel_33304\\3350300543.py:3: UserWarning: torchaudio._backend.set_audio_backend has been deprecated. With dispatcher enabled, this function is no-op. You can remove the function call.\n",
      "  torchaudio.set_audio_backend(\"ffmpeg\")\n"
     ]
    }
   ],
   "source": [
    "import subprocess\n",
    "import torchaudio\n",
    "torchaudio.set_audio_backend(\"ffmpeg\")"
   ]
  },
  {
   "cell_type": "code",
   "execution_count": 41,
   "id": "00cd061a-b10c-4281-97c8-56787e8d15ba",
   "metadata": {},
   "outputs": [
    {
     "ename": "RuntimeError",
     "evalue": "Couldn't find appropriate backend to handle uri 18915.mp3 and format mp3.",
     "output_type": "error",
     "traceback": [
      "\u001b[1;31m---------------------------------------------------------------------------\u001b[0m",
      "\u001b[1;31mRuntimeError\u001b[0m                              Traceback (most recent call last)",
      "Cell \u001b[1;32mIn[41], line 8\u001b[0m\n\u001b[0;32m      4\u001b[0m \u001b[38;5;66;03m# 音声ファイルを読み込む\u001b[39;00m\n\u001b[0;32m      5\u001b[0m \u001b[38;5;66;03m# input_file = os.path.join(\"xeno_data\",\"test_Q2922483\",\"18915.mp3\")\u001b[39;00m\n\u001b[0;32m      6\u001b[0m \u001b[38;5;66;03m# input_file = \"18915.mp3\"\u001b[39;00m\n\u001b[0;32m      7\u001b[0m input_file \u001b[38;5;241m=\u001b[39m \u001b[38;5;124m'\u001b[39m\u001b[38;5;124m18915.mp3\u001b[39m\u001b[38;5;124m'\u001b[39m\n\u001b[1;32m----> 8\u001b[0m audio_tensor, sample_rate \u001b[38;5;241m=\u001b[39m \u001b[43mtorchaudio\u001b[49m\u001b[38;5;241;43m.\u001b[39;49m\u001b[43mload\u001b[49m\u001b[43m(\u001b[49m\u001b[43minput_file\u001b[49m\u001b[43m,\u001b[49m\u001b[38;5;28;43mformat\u001b[39;49m\u001b[38;5;241;43m=\u001b[39;49m\u001b[38;5;124;43m\"\u001b[39;49m\u001b[38;5;124;43mmp3\u001b[39;49m\u001b[38;5;124;43m\"\u001b[39;49m\u001b[43m)\u001b[49m\n\u001b[0;32m     10\u001b[0m \u001b[38;5;66;03m# 読み込んだ音声ファイルの情報を表示\u001b[39;00m\n\u001b[0;32m     11\u001b[0m \u001b[38;5;28mprint\u001b[39m(\u001b[38;5;124mf\u001b[39m\u001b[38;5;124m\"\u001b[39m\u001b[38;5;124mAudio Tensor: \u001b[39m\u001b[38;5;132;01m{\u001b[39;00maudio_tensor\u001b[38;5;241m.\u001b[39mshape\u001b[38;5;132;01m}\u001b[39;00m\u001b[38;5;124m\"\u001b[39m)\n",
      "File \u001b[1;32m~\\Projects\\env_webscraper\\Lib\\site-packages\\torchaudio\\_backend\\utils.py:204\u001b[0m, in \u001b[0;36mget_load_func.<locals>.load\u001b[1;34m(uri, frame_offset, num_frames, normalize, channels_first, format, buffer_size, backend)\u001b[0m\n\u001b[0;32m    118\u001b[0m \u001b[38;5;28;01mdef\u001b[39;00m \u001b[38;5;21mload\u001b[39m(\n\u001b[0;32m    119\u001b[0m     uri: Union[BinaryIO, \u001b[38;5;28mstr\u001b[39m, os\u001b[38;5;241m.\u001b[39mPathLike],\n\u001b[0;32m    120\u001b[0m     frame_offset: \u001b[38;5;28mint\u001b[39m \u001b[38;5;241m=\u001b[39m \u001b[38;5;241m0\u001b[39m,\n\u001b[1;32m   (...)\u001b[0m\n\u001b[0;32m    126\u001b[0m     backend: Optional[\u001b[38;5;28mstr\u001b[39m] \u001b[38;5;241m=\u001b[39m \u001b[38;5;28;01mNone\u001b[39;00m,\n\u001b[0;32m    127\u001b[0m ) \u001b[38;5;241m-\u001b[39m\u001b[38;5;241m>\u001b[39m Tuple[torch\u001b[38;5;241m.\u001b[39mTensor, \u001b[38;5;28mint\u001b[39m]:\n\u001b[0;32m    128\u001b[0m \u001b[38;5;250m    \u001b[39m\u001b[38;5;124;03m\"\"\"Load audio data from source.\u001b[39;00m\n\u001b[0;32m    129\u001b[0m \n\u001b[0;32m    130\u001b[0m \u001b[38;5;124;03m    By default (``normalize=True``, ``channels_first=True``), this function returns Tensor with\u001b[39;00m\n\u001b[1;32m   (...)\u001b[0m\n\u001b[0;32m    202\u001b[0m \u001b[38;5;124;03m            `[channel, time]` else `[time, channel]`.\u001b[39;00m\n\u001b[0;32m    203\u001b[0m \u001b[38;5;124;03m    \"\"\"\u001b[39;00m\n\u001b[1;32m--> 204\u001b[0m     backend \u001b[38;5;241m=\u001b[39m \u001b[43mdispatcher\u001b[49m\u001b[43m(\u001b[49m\u001b[43muri\u001b[49m\u001b[43m,\u001b[49m\u001b[43m \u001b[49m\u001b[38;5;28;43mformat\u001b[39;49m\u001b[43m,\u001b[49m\u001b[43m \u001b[49m\u001b[43mbackend\u001b[49m\u001b[43m)\u001b[49m\n\u001b[0;32m    205\u001b[0m     \u001b[38;5;28;01mreturn\u001b[39;00m backend\u001b[38;5;241m.\u001b[39mload(uri, frame_offset, num_frames, normalize, channels_first, \u001b[38;5;28mformat\u001b[39m, buffer_size)\n",
      "File \u001b[1;32m~\\Projects\\env_webscraper\\Lib\\site-packages\\torchaudio\\_backend\\utils.py:116\u001b[0m, in \u001b[0;36mget_load_func.<locals>.dispatcher\u001b[1;34m(uri, format, backend_name)\u001b[0m\n\u001b[0;32m    114\u001b[0m     \u001b[38;5;28;01mif\u001b[39;00m backend\u001b[38;5;241m.\u001b[39mcan_decode(uri, \u001b[38;5;28mformat\u001b[39m):\n\u001b[0;32m    115\u001b[0m         \u001b[38;5;28;01mreturn\u001b[39;00m backend\n\u001b[1;32m--> 116\u001b[0m \u001b[38;5;28;01mraise\u001b[39;00m \u001b[38;5;167;01mRuntimeError\u001b[39;00m(\u001b[38;5;124mf\u001b[39m\u001b[38;5;124m\"\u001b[39m\u001b[38;5;124mCouldn\u001b[39m\u001b[38;5;124m'\u001b[39m\u001b[38;5;124mt find appropriate backend to handle uri \u001b[39m\u001b[38;5;132;01m{\u001b[39;00muri\u001b[38;5;132;01m}\u001b[39;00m\u001b[38;5;124m and format \u001b[39m\u001b[38;5;132;01m{\u001b[39;00m\u001b[38;5;28mformat\u001b[39m\u001b[38;5;132;01m}\u001b[39;00m\u001b[38;5;124m.\u001b[39m\u001b[38;5;124m\"\u001b[39m)\n",
      "\u001b[1;31mRuntimeError\u001b[0m: Couldn't find appropriate backend to handle uri 18915.mp3 and format mp3."
     ]
    }
   ],
   "source": [
    "import torchaudio\n",
    "import os\n",
    "\n",
    "# 音声ファイルを読み込む\n",
    "# input_file = os.path.join(\"xeno_data\",\"test_Q2922483\",\"18915.mp3\")\n",
    "# input_file = \"18915.mp3\"\n",
    "input_file = '18915.mp3'\n",
    "audio_tensor, sample_rate = torchaudio.load(input_file,format=\"mp3\")\n",
    "\n",
    "# 読み込んだ音声ファイルの情報を表示\n",
    "print(f\"Audio Tensor: {audio_tensor.shape}\")\n",
    "print(f\"Sample Rate: {sample_rate}\")\n",
    "\n",
    "# # 新しいファイルに保存する（音声データを別のファイル形式で保存）\n",
    "# output_file = 'output_file.wav'\n",
    "# torchaudio.save(output_file, audio_tensor, sample_rate, format=\"wav\")\n",
    "\n",
    "# print(f\"音声ファイルを {output_file} に保存しました。\")\n"
   ]
  },
  {
   "cell_type": "code",
   "execution_count": null,
   "id": "3b93cafc-ec47-4e8a-8c82-8e0d586ea724",
   "metadata": {},
   "outputs": [],
   "source": [
    "!pip install soundfile"
   ]
  },
  {
   "cell_type": "code",
   "execution_count": 28,
   "id": "9e91a633-9705-4575-8699-441974be0ca9",
   "metadata": {},
   "outputs": [
    {
     "name": "stdout",
     "output_type": "stream",
     "text": [
      "音源分離が完了しました。\n"
     ]
    }
   ],
   "source": [
    "import subprocess\n",
    "import torchaudio\n",
    "torchaudio.set_audio_backend(\"ffmpeg\")\n",
    "\n",
    "audio_file = 'xeno_data\\test_Q2922483\\18915.mp3'\n",
    "subprocess.run(['demucs', audio_file])\n",
    "\n",
    "print(\"音源分離が完了しました。\")"
   ]
  },
  {
   "cell_type": "code",
   "execution_count": 26,
   "id": "0214065e-612d-4094-aa53-0a64e32b699f",
   "metadata": {},
   "outputs": [
    {
     "name": "stdout",
     "output_type": "stream",
     "text": [
      "標準出力: \u001b[1mImportant: the default model was recently changed to `htdemucs`\u001b[0m the latest Hybrid Transformer Demucs model. In some cases, this model can actually perform worse than previous models. To get back the old default model use `-n mdx_extra_q`.\n",
      "Selected model is a bag of 1 models. You will see that many progress bars per track.\n",
      "Separated tracks will be stored in C:\\Users\\momo1\\Projects\\Bird_Wikidata_XenoScrape\\separated\\htdemucs\n",
      "Separating track xeno_data\\test_Q2922483\\18915.mp3\n",
      "\n",
      "標準エラー出力: \n",
      "  0%|                                                                                   | 0.0/11.7 [00:00<?, ?seconds/s]\n",
      " 50%|#####################################                                     | 5.85/11.7 [00:03<00:03,  1.66seconds/s]\n",
      "100%|##########################################################################| 11.7/11.7 [00:06<00:00,  1.74seconds/s]\n",
      "100%|##########################################################################| 11.7/11.7 [00:06<00:00,  1.72seconds/s]\n",
      "Traceback (most recent call last):\n",
      "  File \"<frozen runpy>\", line 198, in _run_module_as_main\n",
      "  File \"<frozen runpy>\", line 88, in _run_code\n",
      "  File \"C:\\Users\\momo1\\Projects\\env_webscraper\\Scripts\\demucs.exe\\__main__.py\", line 7, in <module>\n",
      "  File \"C:\\Users\\momo1\\Projects\\env_webscraper\\Lib\\site-packages\\demucs\\separate.py\", line 199, in main\n",
      "    save_audio(source, str(stem), **kwargs)\n",
      "  File \"C:\\Users\\momo1\\Projects\\env_webscraper\\Lib\\site-packages\\demucs\\audio.py\", line 260, in save_audio\n",
      "    ta.save(str(path), wav, sample_rate=samplerate,\n",
      "  File \"C:\\Users\\momo1\\Projects\\env_webscraper\\Lib\\site-packages\\torchaudio\\_backend\\utils.py\", line 312, in save\n",
      "    backend = dispatcher(uri, format, backend)\n",
      "              ^^^^^^^^^^^^^^^^^^^^^^^^^^^^^^^^\n",
      "  File \"C:\\Users\\momo1\\Projects\\env_webscraper\\Lib\\site-packages\\torchaudio\\_backend\\utils.py\", line 222, in dispatcher\n",
      "    raise RuntimeError(f\"Couldn't find appropriate backend to handle uri {uri} and format {format}.\")\n",
      "RuntimeError: Couldn't find appropriate backend to handle uri separated\\htdemucs\\18915\\drums.wav and format None.\n",
      "\n"
     ]
    }
   ],
   "source": [
    "import subprocess\n",
    "\n",
    "result = subprocess.run(['demucs', audio_file], stdout=subprocess.PIPE, stderr=subprocess.PIPE, text=True)\n",
    "\n",
    "print(\"標準出力:\", result.stdout)\n",
    "print(\"標準エラー出力:\", result.stderr)"
   ]
  },
  {
   "cell_type": "code",
   "execution_count": 29,
   "id": "46be09e9-80b0-4a95-8e5f-a5e38526e654",
   "metadata": {},
   "outputs": [
    {
     "name": "stdout",
     "output_type": "stream",
     "text": [
      "Selected model is a bag of 4 models. You will see that many progress bars per track.\n",
      "Separated tracks will be stored in C:\\Users\\momo1\\Projects\\Bird_Wikidata_XenoScrape\\separated\\mdx_extra_q\n",
      "Separating track xeno_data\\test_Q2922483\\18915.mp3\n"
     ]
    },
    {
     "name": "stderr",
     "output_type": "stream",
     "text": [
      "Downloading: \"https://dl.fbaipublicfiles.com/demucs/mdx_final/464b36d7-e5a9386e.th\" to C:\\Users\\momo1/.cache\\torch\\hub\\checkpoints\\464b36d7-e5a9386e.th\n",
      "\n",
      "  0%|          | 0.00/37.1M [00:00<?, ?B/s]\n",
      "  3%|3         | 1.25M/37.1M [00:00<00:02, 13.1MB/s]\n",
      " 11%|#1        | 4.25M/37.1M [00:00<00:01, 21.7MB/s]\n",
      " 23%|##2       | 8.38M/37.1M [00:00<00:01, 29.3MB/s]\n",
      " 36%|###5      | 13.2M/37.1M [00:00<00:00, 36.0MB/s]\n",
      " 47%|####7     | 17.5M/37.1M [00:00<00:00, 38.7MB/s]\n",
      " 60%|######    | 22.4M/37.1M [00:00<00:00, 42.2MB/s]\n",
      " 73%|#######3  | 27.2M/37.1M [00:00<00:00, 44.9MB/s]\n",
      " 87%|########6 | 32.2M/37.1M [00:00<00:00, 46.7MB/s]\n",
      "100%|##########| 37.1M/37.1M [00:00<00:00, 40.9MB/s]\n",
      "Downloading: \"https://dl.fbaipublicfiles.com/demucs/mdx_final/14fc6a69-a89dd0ee.th\" to C:\\Users\\momo1/.cache\\torch\\hub\\checkpoints\\14fc6a69-a89dd0ee.th\n",
      "\n",
      "  0%|          | 0.00/36.7M [00:00<?, ?B/s]\n",
      "  4%|3         | 1.38M/36.7M [00:00<00:03, 11.8MB/s]\n",
      " 13%|#2        | 4.75M/36.7M [00:00<00:01, 22.9MB/s]\n",
      " 27%|##7       | 10.0M/36.7M [00:00<00:00, 36.1MB/s]\n",
      " 41%|####      | 14.9M/36.7M [00:00<00:00, 40.5MB/s]\n",
      " 53%|#####3    | 19.5M/36.7M [00:00<00:00, 42.8MB/s]\n",
      " 66%|######6   | 24.2M/36.7M [00:00<00:00, 44.9MB/s]\n",
      " 79%|#######8  | 28.9M/36.7M [00:00<00:00, 45.9MB/s]\n",
      " 93%|#########2| 34.1M/36.7M [00:00<00:00, 48.6MB/s]\n",
      "100%|##########| 36.7M/36.7M [00:00<00:00, 43.4MB/s]\n",
      "Downloading: \"https://dl.fbaipublicfiles.com/demucs/mdx_final/7fd6ef75-a905dd85.th\" to C:\\Users\\momo1/.cache\\torch\\hub\\checkpoints\\7fd6ef75-a905dd85.th\n",
      "\n",
      "  0%|          | 0.00/37.6M [00:00<?, ?B/s]\n",
      "  3%|3         | 1.25M/37.6M [00:00<00:03, 11.4MB/s]\n",
      " 12%|#2        | 4.62M/37.6M [00:00<00:01, 22.2MB/s]\n",
      " 25%|##4       | 9.25M/37.6M [00:00<00:00, 32.6MB/s]\n",
      " 38%|###7      | 14.1M/37.6M [00:00<00:00, 38.0MB/s]\n",
      " 51%|#####     | 19.0M/37.6M [00:00<00:00, 41.8MB/s]\n",
      " 63%|######2   | 23.6M/37.6M [00:00<00:00, 43.2MB/s]\n",
      " 74%|#######4  | 28.0M/37.6M [00:00<00:00, 44.0MB/s]\n",
      " 89%|########9 | 33.5M/37.6M [00:00<00:00, 47.9MB/s]\n",
      "100%|##########| 37.6M/37.6M [00:00<00:00, 41.5MB/s]\n",
      "\n",
      "  0%|                                                                                   | 0.0/33.0 [00:00<?, ?seconds/s]\n",
      "100%|##########################################################################| 33.0/33.0 [00:04<00:00,  8.22seconds/s]\n",
      "100%|##########################################################################| 33.0/33.0 [00:04<00:00,  8.22seconds/s]\n",
      "\n",
      "  0%|                                                                                   | 0.0/33.0 [00:00<?, ?seconds/s]\n",
      "100%|##########################################################################| 33.0/33.0 [00:04<00:00,  7.66seconds/s]\n",
      "100%|##########################################################################| 33.0/33.0 [00:04<00:00,  7.66seconds/s]\n",
      "\n",
      "  0%|                                                                                   | 0.0/33.0 [00:00<?, ?seconds/s]\n",
      "100%|##########################################################################| 33.0/33.0 [00:03<00:00,  8.68seconds/s]\n",
      "100%|##########################################################################| 33.0/33.0 [00:03<00:00,  8.68seconds/s]\n",
      "\n",
      "  0%|                                                                                   | 0.0/33.0 [00:00<?, ?seconds/s]\n",
      "100%|##########################################################################| 33.0/33.0 [00:04<00:00,  8.11seconds/s]\n",
      "100%|##########################################################################| 33.0/33.0 [00:04<00:00,  8.11seconds/s]\n",
      "Traceback (most recent call last):\n",
      "  File \"<frozen runpy>\", line 198, in _run_module_as_main\n",
      "  File \"<frozen runpy>\", line 88, in _run_code\n",
      "  File \"C:\\Users\\momo1\\Projects\\env_webscraper\\Scripts\\demucs.exe\\__main__.py\", line 7, in <module>\n",
      "  File \"C:\\Users\\momo1\\Projects\\env_webscraper\\Lib\\site-packages\\demucs\\separate.py\", line 199, in main\n",
      "    save_audio(source, str(stem), **kwargs)\n",
      "  File \"C:\\Users\\momo1\\Projects\\env_webscraper\\Lib\\site-packages\\demucs\\audio.py\", line 260, in save_audio\n",
      "    ta.save(str(path), wav, sample_rate=samplerate,\n",
      "  File \"C:\\Users\\momo1\\Projects\\env_webscraper\\Lib\\site-packages\\torchaudio\\_backend\\utils.py\", line 312, in save\n",
      "    backend = dispatcher(uri, format, backend)\n",
      "              ^^^^^^^^^^^^^^^^^^^^^^^^^^^^^^^^\n",
      "  File \"C:\\Users\\momo1\\Projects\\env_webscraper\\Lib\\site-packages\\torchaudio\\_backend\\utils.py\", line 222, in dispatcher\n",
      "    raise RuntimeError(f\"Couldn't find appropriate backend to handle uri {uri} and format {format}.\")\n",
      "RuntimeError: Couldn't find appropriate backend to handle uri separated\\mdx_extra_q\\18915\\drums.wav and format None.\n"
     ]
    }
   ],
   "source": [
    "!demucs -n mdx_extra_q xeno_data\\test_Q2922483\\18915.mp3"
   ]
  },
  {
   "cell_type": "code",
   "execution_count": 25,
   "id": "7e4fb510-4b0d-4c8d-9240-9856455b38fd",
   "metadata": {},
   "outputs": [],
   "source": [
    "import diffq"
   ]
  },
  {
   "cell_type": "code",
   "execution_count": 15,
   "id": "3f17e06d-b6ee-4130-b4fc-144892a0046c",
   "metadata": {},
   "outputs": [],
   "source": [
    "import pandas as pd\n",
    "import os\n",
    "from mymodule import save_bin,read_bin,directory_to_dict\n",
    "\n",
    "Xeno2sound_ids = read_bin(\"saved_data/Xeno2sound_ids.bin\")\n",
    "\n",
    "directory_path = './xeno_data'\n",
    "result = directory_to_dict(directory_path)\n",
    "\n",
    "df = pd.read_csv(\"saved_data/id2Xeno.csv\",header = None)# 順番通りに取得する必要があるため\n",
    "the_ids = list(df[0])[1:]"
   ]
  },
  {
   "cell_type": "code",
   "execution_count": 28,
   "id": "309cf822-f252-4e43-9da2-3a080df2725d",
   "metadata": {},
   "outputs": [],
   "source": [
    "lack_files = []\n",
    "lack_files_num = []\n",
    "for the_id in the_ids:\n",
    "    if the_id in result and the_id in Xeno2sound_ids:\n",
    "        if result[the_id] != []:\n",
    "            if len(result[the_id])>=101:\n",
    "                pass\n",
    "            else:\n",
    "                d = len(Xeno2sound_ids[the_id])-len(result[the_id])\n",
    "                if d!=0:\n",
    "                    lack_files.append(the_id)\n",
    "                    lack_files_num.append(d)"
   ]
  },
  {
   "cell_type": "code",
   "execution_count": 29,
   "id": "a2700721-61cd-47ce-8825-e1a179abea86",
   "metadata": {},
   "outputs": [
    {
     "data": {
      "text/plain": [
       "14"
      ]
     },
     "execution_count": 29,
     "metadata": {},
     "output_type": "execute_result"
    }
   ],
   "source": [
    "len(lack_files)"
   ]
  },
  {
   "cell_type": "code",
   "execution_count": 30,
   "id": "fee6981a-b767-4965-a70e-c5d3f3e54977",
   "metadata": {},
   "outputs": [
    {
     "data": {
      "text/plain": [
       "['Q26135',\n",
       " 'Q27160',\n",
       " 'Q1079441',\n",
       " 'Q2538158',\n",
       " 'Q220985',\n",
       " 'Q27075886',\n",
       " 'Q22965986',\n",
       " 'Q19055',\n",
       " 'Q338246',\n",
       " 'Q1305310']"
      ]
     },
     "execution_count": 30,
     "metadata": {},
     "output_type": "execute_result"
    }
   ],
   "source": [
    "lack_files[:10]"
   ]
  },
  {
   "cell_type": "code",
   "execution_count": 31,
   "id": "c4f77782-b04c-4894-8423-faef3abfbbb6",
   "metadata": {},
   "outputs": [
    {
     "data": {
      "text/plain": [
       "[299, 220, 181, 1, 21, 94, 15, 36, 43, 43]"
      ]
     },
     "execution_count": 31,
     "metadata": {},
     "output_type": "execute_result"
    }
   ],
   "source": [
    "lack_files_num[:10]"
   ]
  },
  {
   "cell_type": "code",
   "execution_count": 36,
   "id": "39403cb2-b038-42da-a5a3-d7d24ed3cb73",
   "metadata": {},
   "outputs": [
    {
     "data": {
      "text/plain": [
       "'Q1079441'"
      ]
     },
     "execution_count": 36,
     "metadata": {},
     "output_type": "execute_result"
    }
   ],
   "source": [
    "the_id = lack_files[2]\n",
    "the_id"
   ]
  },
  {
   "cell_type": "code",
   "execution_count": 37,
   "id": "67710f57-4037-44ef-b2ac-174b04a10647",
   "metadata": {},
   "outputs": [
    {
     "name": "stdout",
     "output_type": "stream",
     "text": [
      "278\n",
      "97\n"
     ]
    }
   ],
   "source": [
    "print(len(Xeno2sound_ids[the_id]))\n",
    "print(len(result[the_id]))"
   ]
  },
  {
   "cell_type": "code",
   "execution_count": 38,
   "id": "d3a034de-3564-4f96-91e2-c17fb05bc4ce",
   "metadata": {},
   "outputs": [],
   "source": [
    "not_in_Xeno2sound_ids_files = []\n",
    "for the_id in the_ids:\n",
    "    if the_id in result:\n",
    "        if the_id not in Xeno2sound_ids:\n",
    "            not_in_Xeno2sound_ids_files.append(the_id)"
   ]
  },
  {
   "cell_type": "code",
   "execution_count": 39,
   "id": "6ba681e0-c401-4d91-a182-757ae82fd56b",
   "metadata": {},
   "outputs": [
    {
     "data": {
      "text/plain": [
       "1"
      ]
     },
     "execution_count": 39,
     "metadata": {},
     "output_type": "execute_result"
    }
   ],
   "source": [
    "len(not_in_Xeno2sound_ids_files)"
   ]
  },
  {
   "cell_type": "code",
   "execution_count": 40,
   "id": "364c6f1a-3e1d-414c-972f-575aad939b1d",
   "metadata": {},
   "outputs": [
    {
     "data": {
      "text/plain": [
       "['Q1260197']"
      ]
     },
     "execution_count": 40,
     "metadata": {},
     "output_type": "execute_result"
    }
   ],
   "source": [
    "not_in_Xeno2sound_ids_files"
   ]
  },
  {
   "cell_type": "code",
   "execution_count": 47,
   "id": "60eef31a-9194-4c80-a873-20f42f8b3426",
   "metadata": {},
   "outputs": [],
   "source": [
    "l = list(result.keys())[:3]"
   ]
  },
  {
   "cell_type": "code",
   "execution_count": 48,
   "id": "d7bced6c-4a15-4b9d-a2ce-416d008e8bbd",
   "metadata": {},
   "outputs": [],
   "source": [
    "result_part=dict()\n",
    "for a_id in l:\n",
    "    result_part[a_id] = result[a_id]"
   ]
  },
  {
   "cell_type": "code",
   "execution_count": null,
   "id": "b278e83c-27c8-48b4-9b4d-d07c2d527273",
   "metadata": {},
   "outputs": [],
   "source": []
  },
  {
   "cell_type": "code",
   "execution_count": 53,
   "id": "0d786b92-0ba4-4133-bb10-65a72f2d0969",
   "metadata": {},
   "outputs": [],
   "source": [
    "# いるもの"
   ]
  },
  {
   "cell_type": "code",
   "execution_count": 54,
   "id": "19c24970-f96f-4975-be8c-19a0e41cd45c",
   "metadata": {},
   "outputs": [],
   "source": [
    "# !pip install pydub"
   ]
  },
  {
   "cell_type": "code",
   "execution_count": null,
   "id": "9c4adbae-c0b1-49bf-af0f-a7ed83ad91a1",
   "metadata": {},
   "outputs": [],
   "source": [
    "from mymodule import save_bin,read_bin,directory_to_dict\n",
    "\n",
    "Xeno2sound_ids = read_bin(\"saved_data/Xeno2sound_ids.bin\")\n",
    "\n",
    "directory_path = './xeno_data'\n",
    "result = directory_to_dict(directory_path)"
   ]
  },
  {
   "cell_type": "code",
   "execution_count": null,
   "id": "3fccf548-996e-4313-b892-4085ea8f3ba6",
   "metadata": {},
   "outputs": [],
   "source": [
    "result_part=dict()\n",
    "for a_id in l:\n",
    "    result_part[a_id] = result[a_id]"
   ]
  },
  {
   "cell_type": "code",
   "execution_count": 71,
   "id": "892ab5ea-9d17-4a74-bf5c-bcc231f2a97d",
   "metadata": {},
   "outputs": [
    {
     "name": "stdout",
     "output_type": "stream",
     "text": [
      "xeno_data\\Q1000262\\204670.mp3\n",
      "xeno_data\\Q1000262\\280373.mp3\n",
      "xeno_data\\Q1000262\\280375.mp3\n",
      "xeno_data\\Q1000977\\165127.mp3\n",
      "xeno_data\\Q1000977\\184094.mp3\n",
      "xeno_data\\Q1000977\\184095.mp3\n",
      "xeno_data\\Q1001580\\246707.mp3\n",
      "xeno_data\\Q1001580\\246708.mp3\n",
      "xeno_data\\Q1001580\\24686.mp3\n"
     ]
    }
   ],
   "source": [
    "import os\n",
    "import pandas as pd\n",
    "from pydub import AudioSegment\n",
    "\n",
    "data = []\n",
    "for bird_id,sound_ids in result_part.items():\n",
    "    for sound_id in sound_ids[:3]:\n",
    "        file_path = os.path.join(\"xeno_data\",bird_id, sound_id)\n",
    "        print(file_path)\n",
    "        audio = AudioSegment.from_mp3(file_path)\n",
    "        wav_data = audio.export(format=\"wav\").read()\n",
    "            \n",
    "        wav_d = {\"bytes\":wav_data,\"path\":None}\n",
    "        data.append([sound_id.replace(\".mp3\",\"\"),wav_d,bird_id])\n",
    "\n",
    "# DataFrameを作成\n",
    "data_df = pd.DataFrame(data, columns=[\"s_id\", \"audio\",\"description\"])\n",
    "data_df.set_index(\"s_id\", inplace=True)\n",
    "data_df.index.name = None"
   ]
  },
  {
   "cell_type": "code",
   "execution_count": 72,
   "id": "078edfcb-700a-45f6-b8ea-bf664d10f466",
   "metadata": {},
   "outputs": [
    {
     "name": "stdout",
     "output_type": "stream",
     "text": [
      "                                                    audio description\n",
      "204670  {'bytes': b'RIFF(\\x02\\xaf\\x00WAVEfmt \\x10\\x00\\...    Q1000262\n",
      "280373  {'bytes': b'RIFF$\\xc0*\\x00WAVEfmt \\x10\\x00\\x00...    Q1000262\n",
      "280375  {'bytes': b'RIFF$b=\\x00WAVEfmt \\x10\\x00\\x00\\x0...    Q1000262\n",
      "165127  {'bytes': b'RIFF$\\x0f9\\x00WAVEfmt \\x10\\x00\\x00...    Q1000977\n",
      "184094  {'bytes': b'RIFF\\xe4\\x81h\\x00WAVEfmt \\x10\\x00\\...    Q1000977\n",
      "184095  {'bytes': b'RIFF\\xbcF\\x17\\x00WAVEfmt \\x10\\x00\\...    Q1000977\n",
      "246707  {'bytes': b'RIFF\\xc4\\x9bc\\x00WAVEfmt \\x10\\x00\\...    Q1001580\n",
      "246708  {'bytes': b'RIFF4\\x8aT\\x00WAVEfmt \\x10\\x00\\x00...    Q1001580\n",
      "24686   {'bytes': b'RIFF$\\xed!\\x00WAVEfmt \\x10\\x00\\x00...    Q1001580\n"
     ]
    }
   ],
   "source": [
    "print(data_df)"
   ]
  },
  {
   "cell_type": "code",
   "execution_count": 73,
   "id": "f5cb51a2-ce02-4246-a8b3-39f6c6680507",
   "metadata": {},
   "outputs": [],
   "source": [
    "data_df.to_parquet('wav_model_data/all_xeno.parquet')"
   ]
  },
  {
   "cell_type": "code",
   "execution_count": 100,
   "id": "73b4a708-bf17-4c62-b7e4-402a5087d637",
   "metadata": {},
   "outputs": [],
   "source": [
    "from sklearn.model_selection import KFold\n",
    "\n",
    "kf = KFold(n_splits=3, shuffle=True, random_state=101)\n",
    "\n",
    "for i, (train_i, test_i) in enumerate(kf.split(data_df)):\n",
    "    train_df = data_df.iloc[train_i]\n",
    "    test_df = data_df.iloc[test_i]\n",
    "    train_df.to_parquet(f'wav_model_data/train_{i+1}.parquet')\n",
    "    test_df.to_parquet(f'wav_model_data/test_{i+1}.parquet')"
   ]
  },
  {
   "cell_type": "code",
   "execution_count": 101,
   "id": "e4e650ce-75d0-48e5-b419-a07f421f9fe9",
   "metadata": {},
   "outputs": [],
   "source": [
    "# !pip install scikit-learn"
   ]
  },
  {
   "cell_type": "code",
   "execution_count": 102,
   "id": "060c0009-cd67-44fc-95c8-154dd4c1544a",
   "metadata": {},
   "outputs": [],
   "source": [
    "df = pd.read_parquet('wav_model_data/train_3.parquet')#10313"
   ]
  },
  {
   "cell_type": "code",
   "execution_count": 103,
   "id": "b6fa1f34-5b3d-417a-9670-eddcceed7604",
   "metadata": {},
   "outputs": [
    {
     "data": {
      "text/plain": [
       "9"
      ]
     },
     "execution_count": 103,
     "metadata": {},
     "output_type": "execute_result"
    }
   ],
   "source": [
    "len(data_df)"
   ]
  },
  {
   "cell_type": "code",
   "execution_count": 104,
   "id": "8eb13040-c8c1-4284-bc1b-4bcbd2df031f",
   "metadata": {},
   "outputs": [
    {
     "data": {
      "text/html": [
       "<div>\n",
       "<style scoped>\n",
       "    .dataframe tbody tr th:only-of-type {\n",
       "        vertical-align: middle;\n",
       "    }\n",
       "\n",
       "    .dataframe tbody tr th {\n",
       "        vertical-align: top;\n",
       "    }\n",
       "\n",
       "    .dataframe thead th {\n",
       "        text-align: right;\n",
       "    }\n",
       "</style>\n",
       "<table border=\"1\" class=\"dataframe\">\n",
       "  <thead>\n",
       "    <tr style=\"text-align: right;\">\n",
       "      <th></th>\n",
       "      <th>audio</th>\n",
       "      <th>description</th>\n",
       "    </tr>\n",
       "  </thead>\n",
       "  <tbody>\n",
       "    <tr>\n",
       "      <th>204670</th>\n",
       "      <td>{'bytes': b'RIFF(\\x02\\xaf\\x00WAVEfmt \\x10\\x00\\...</td>\n",
       "      <td>Q1000262</td>\n",
       "    </tr>\n",
       "    <tr>\n",
       "      <th>280373</th>\n",
       "      <td>{'bytes': b'RIFF$\\xc0*\\x00WAVEfmt \\x10\\x00\\x00...</td>\n",
       "      <td>Q1000262</td>\n",
       "    </tr>\n",
       "    <tr>\n",
       "      <th>280375</th>\n",
       "      <td>{'bytes': b'RIFF$b=\\x00WAVEfmt \\x10\\x00\\x00\\x0...</td>\n",
       "      <td>Q1000262</td>\n",
       "    </tr>\n",
       "    <tr>\n",
       "      <th>165127</th>\n",
       "      <td>{'bytes': b'RIFF$\\x0f9\\x00WAVEfmt \\x10\\x00\\x00...</td>\n",
       "      <td>Q1000977</td>\n",
       "    </tr>\n",
       "    <tr>\n",
       "      <th>184094</th>\n",
       "      <td>{'bytes': b'RIFF\\xe4\\x81h\\x00WAVEfmt \\x10\\x00\\...</td>\n",
       "      <td>Q1000977</td>\n",
       "    </tr>\n",
       "    <tr>\n",
       "      <th>184095</th>\n",
       "      <td>{'bytes': b'RIFF\\xbcF\\x17\\x00WAVEfmt \\x10\\x00\\...</td>\n",
       "      <td>Q1000977</td>\n",
       "    </tr>\n",
       "    <tr>\n",
       "      <th>246707</th>\n",
       "      <td>{'bytes': b'RIFF\\xc4\\x9bc\\x00WAVEfmt \\x10\\x00\\...</td>\n",
       "      <td>Q1001580</td>\n",
       "    </tr>\n",
       "    <tr>\n",
       "      <th>246708</th>\n",
       "      <td>{'bytes': b'RIFF4\\x8aT\\x00WAVEfmt \\x10\\x00\\x00...</td>\n",
       "      <td>Q1001580</td>\n",
       "    </tr>\n",
       "    <tr>\n",
       "      <th>24686</th>\n",
       "      <td>{'bytes': b'RIFF$\\xed!\\x00WAVEfmt \\x10\\x00\\x00...</td>\n",
       "      <td>Q1001580</td>\n",
       "    </tr>\n",
       "  </tbody>\n",
       "</table>\n",
       "</div>"
      ],
      "text/plain": [
       "                                                    audio description\n",
       "204670  {'bytes': b'RIFF(\\x02\\xaf\\x00WAVEfmt \\x10\\x00\\...    Q1000262\n",
       "280373  {'bytes': b'RIFF$\\xc0*\\x00WAVEfmt \\x10\\x00\\x00...    Q1000262\n",
       "280375  {'bytes': b'RIFF$b=\\x00WAVEfmt \\x10\\x00\\x00\\x0...    Q1000262\n",
       "165127  {'bytes': b'RIFF$\\x0f9\\x00WAVEfmt \\x10\\x00\\x00...    Q1000977\n",
       "184094  {'bytes': b'RIFF\\xe4\\x81h\\x00WAVEfmt \\x10\\x00\\...    Q1000977\n",
       "184095  {'bytes': b'RIFF\\xbcF\\x17\\x00WAVEfmt \\x10\\x00\\...    Q1000977\n",
       "246707  {'bytes': b'RIFF\\xc4\\x9bc\\x00WAVEfmt \\x10\\x00\\...    Q1001580\n",
       "246708  {'bytes': b'RIFF4\\x8aT\\x00WAVEfmt \\x10\\x00\\x00...    Q1001580\n",
       "24686   {'bytes': b'RIFF$\\xed!\\x00WAVEfmt \\x10\\x00\\x00...    Q1001580"
      ]
     },
     "execution_count": 104,
     "metadata": {},
     "output_type": "execute_result"
    }
   ],
   "source": [
    "data_df"
   ]
  },
  {
   "cell_type": "code",
   "execution_count": 105,
   "id": "81542433-d9ff-474d-be1c-fc811f0d88ec",
   "metadata": {},
   "outputs": [
    {
     "data": {
      "text/plain": [
       "6"
      ]
     },
     "execution_count": 105,
     "metadata": {},
     "output_type": "execute_result"
    }
   ],
   "source": [
    "len(df)"
   ]
  },
  {
   "cell_type": "code",
   "execution_count": 106,
   "id": "196f02eb-7b2f-4836-a52b-1392cb3fd332",
   "metadata": {},
   "outputs": [
    {
     "data": {
      "text/html": [
       "<div>\n",
       "<style scoped>\n",
       "    .dataframe tbody tr th:only-of-type {\n",
       "        vertical-align: middle;\n",
       "    }\n",
       "\n",
       "    .dataframe tbody tr th {\n",
       "        vertical-align: top;\n",
       "    }\n",
       "\n",
       "    .dataframe thead th {\n",
       "        text-align: right;\n",
       "    }\n",
       "</style>\n",
       "<table border=\"1\" class=\"dataframe\">\n",
       "  <thead>\n",
       "    <tr style=\"text-align: right;\">\n",
       "      <th></th>\n",
       "      <th>audio</th>\n",
       "      <th>description</th>\n",
       "    </tr>\n",
       "  </thead>\n",
       "  <tbody>\n",
       "    <tr>\n",
       "      <th>204670</th>\n",
       "      <td>{'bytes': b'RIFF(\\x02\\xaf\\x00WAVEfmt \\x10\\x00\\...</td>\n",
       "      <td>Q1000262</td>\n",
       "    </tr>\n",
       "    <tr>\n",
       "      <th>280375</th>\n",
       "      <td>{'bytes': b'RIFF$b=\\x00WAVEfmt \\x10\\x00\\x00\\x0...</td>\n",
       "      <td>Q1000262</td>\n",
       "    </tr>\n",
       "    <tr>\n",
       "      <th>165127</th>\n",
       "      <td>{'bytes': b'RIFF$\\x0f9\\x00WAVEfmt \\x10\\x00\\x00...</td>\n",
       "      <td>Q1000977</td>\n",
       "    </tr>\n",
       "    <tr>\n",
       "      <th>184094</th>\n",
       "      <td>{'bytes': b'RIFF\\xe4\\x81h\\x00WAVEfmt \\x10\\x00\\...</td>\n",
       "      <td>Q1000977</td>\n",
       "    </tr>\n",
       "    <tr>\n",
       "      <th>246708</th>\n",
       "      <td>{'bytes': b'RIFF4\\x8aT\\x00WAVEfmt \\x10\\x00\\x00...</td>\n",
       "      <td>Q1001580</td>\n",
       "    </tr>\n",
       "    <tr>\n",
       "      <th>24686</th>\n",
       "      <td>{'bytes': b'RIFF$\\xed!\\x00WAVEfmt \\x10\\x00\\x00...</td>\n",
       "      <td>Q1001580</td>\n",
       "    </tr>\n",
       "  </tbody>\n",
       "</table>\n",
       "</div>"
      ],
      "text/plain": [
       "                                                    audio description\n",
       "204670  {'bytes': b'RIFF(\\x02\\xaf\\x00WAVEfmt \\x10\\x00\\...    Q1000262\n",
       "280375  {'bytes': b'RIFF$b=\\x00WAVEfmt \\x10\\x00\\x00\\x0...    Q1000262\n",
       "165127  {'bytes': b'RIFF$\\x0f9\\x00WAVEfmt \\x10\\x00\\x00...    Q1000977\n",
       "184094  {'bytes': b'RIFF\\xe4\\x81h\\x00WAVEfmt \\x10\\x00\\...    Q1000977\n",
       "246708  {'bytes': b'RIFF4\\x8aT\\x00WAVEfmt \\x10\\x00\\x00...    Q1001580\n",
       "24686   {'bytes': b'RIFF$\\xed!\\x00WAVEfmt \\x10\\x00\\x00...    Q1001580"
      ]
     },
     "execution_count": 106,
     "metadata": {},
     "output_type": "execute_result"
    }
   ],
   "source": [
    "df"
   ]
  },
  {
   "cell_type": "code",
   "execution_count": null,
   "id": "f23e2cd1-97fc-441e-8a45-e667ab69837b",
   "metadata": {},
   "outputs": [],
   "source": []
  }
 ],
 "metadata": {
  "kernelspec": {
   "display_name": "Python 3 (ipykernel)",
   "language": "python",
   "name": "python3"
  },
  "language_info": {
   "codemirror_mode": {
    "name": "ipython",
    "version": 3
   },
   "file_extension": ".py",
   "mimetype": "text/x-python",
   "name": "python",
   "nbconvert_exporter": "python",
   "pygments_lexer": "ipython3",
   "version": "3.12.4"
  }
 },
 "nbformat": 4,
 "nbformat_minor": 5
}
