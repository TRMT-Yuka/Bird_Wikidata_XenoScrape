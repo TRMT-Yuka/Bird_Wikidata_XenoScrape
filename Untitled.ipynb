{
 "cells": [
  {
   "cell_type": "code",
   "execution_count": 1,
   "id": "08bfc963-5be8-48ed-a545-0df3f985a1e6",
   "metadata": {},
   "outputs": [
    {
     "name": "stdout",
     "output_type": "stream",
     "text": [
      "Collecting deepspeed\n",
      "  Downloading deepspeed-0.15.4.tar.gz (1.4 MB)\n",
      "     ---------------------------------------- 0.0/1.4 MB ? eta -:--:--\n",
      "     ---------------------------------------- 0.0/1.4 MB ? eta -:--:--\n",
      "     ---------------------------------------- 0.0/1.4 MB ? eta -:--:--\n",
      "     ------- -------------------------------- 0.3/1.4 MB ? eta -:--:--\n",
      "     ------- -------------------------------- 0.3/1.4 MB ? eta -:--:--\n",
      "     -------------- ------------------------- 0.5/1.4 MB 622.7 kB/s eta 0:00:02\n",
      "     ---------------------- ----------------- 0.8/1.4 MB 799.2 kB/s eta 0:00:01\n",
      "     ---------------------- ----------------- 0.8/1.4 MB 799.2 kB/s eta 0:00:01\n",
      "     ----------------------------- ---------- 1.0/1.4 MB 729.5 kB/s eta 0:00:01\n",
      "     ----------------------------- ---------- 1.0/1.4 MB 729.5 kB/s eta 0:00:01\n",
      "     ----------------------------- ---------- 1.0/1.4 MB 729.5 kB/s eta 0:00:01\n",
      "     ------------------------------------- -- 1.3/1.4 MB 599.2 kB/s eta 0:00:01\n",
      "     ---------------------------------------- 1.4/1.4 MB 589.0 kB/s eta 0:00:00\n",
      "  Installing build dependencies: started\n",
      "  Installing build dependencies: finished with status 'done'\n",
      "  Getting requirements to build wheel: started\n",
      "  Getting requirements to build wheel: finished with status 'error'\n"
     ]
    },
    {
     "name": "stderr",
     "output_type": "stream",
     "text": [
      "  error: subprocess-exited-with-error\n",
      "  \n",
      "  Getting requirements to build wheel did not run successfully.\n",
      "  exit code: 1\n",
      "  \n",
      "  [23 lines of output]\n",
      "  [WARNING] Unable to import torch, pre-compiling ops will be disabled. Please visit https://pytorch.org/ to see how to properly install torch on your system.\n",
      "  \u001b[93m [WARNING] \u001b[0m unable to import torch, please install it if you want to pre-compile any deepspeed ops.\n",
      "  DS_BUILD_OPS=1\n",
      "  Traceback (most recent call last):\n",
      "    File \"C:\\Users\\momo1\\Projects\\env_webscraper\\Lib\\site-packages\\pip\\_vendor\\pyproject_hooks\\_in_process\\_in_process.py\", line 353, in <module>\n",
      "      main()\n",
      "    File \"C:\\Users\\momo1\\Projects\\env_webscraper\\Lib\\site-packages\\pip\\_vendor\\pyproject_hooks\\_in_process\\_in_process.py\", line 335, in main\n",
      "      json_out['return_val'] = hook(**hook_input['kwargs'])\n",
      "                               ^^^^^^^^^^^^^^^^^^^^^^^^^^^^\n",
      "    File \"C:\\Users\\momo1\\Projects\\env_webscraper\\Lib\\site-packages\\pip\\_vendor\\pyproject_hooks\\_in_process\\_in_process.py\", line 118, in get_requires_for_build_wheel\n",
      "      return hook(config_settings)\n",
      "             ^^^^^^^^^^^^^^^^^^^^^\n",
      "    File \"C:\\Users\\momo1\\AppData\\Local\\Temp\\pip-build-env-mu1c5mvg\\overlay\\Lib\\site-packages\\setuptools\\build_meta.py\", line 334, in get_requires_for_build_wheel\n",
      "      return self._get_build_requires(config_settings, requirements=[])\n",
      "             ^^^^^^^^^^^^^^^^^^^^^^^^^^^^^^^^^^^^^^^^^^^^^^^^^^^^^^^^^^\n",
      "    File \"C:\\Users\\momo1\\AppData\\Local\\Temp\\pip-build-env-mu1c5mvg\\overlay\\Lib\\site-packages\\setuptools\\build_meta.py\", line 304, in _get_build_requires\n",
      "      self.run_setup()\n",
      "    File \"C:\\Users\\momo1\\AppData\\Local\\Temp\\pip-build-env-mu1c5mvg\\overlay\\Lib\\site-packages\\setuptools\\build_meta.py\", line 522, in run_setup\n",
      "      super().run_setup(setup_script=setup_script)\n",
      "    File \"C:\\Users\\momo1\\AppData\\Local\\Temp\\pip-build-env-mu1c5mvg\\overlay\\Lib\\site-packages\\setuptools\\build_meta.py\", line 320, in run_setup\n",
      "      exec(code, locals())\n",
      "    File \"<string>\", line 156, in <module>\n",
      "  AssertionError: Unable to pre-compile ops without torch installed. Please install torch before attempting to pre-compile ops.\n",
      "  [end of output]\n",
      "  \n",
      "  note: This error originates from a subprocess, and is likely not a problem with pip.\n",
      "\n",
      "[notice] A new release of pip is available: 24.2 -> 24.3.1\n",
      "[notice] To update, run: python.exe -m pip install --upgrade pip\n",
      "error: subprocess-exited-with-error\n",
      "\n",
      "Getting requirements to build wheel did not run successfully.\n",
      "exit code: 1\n",
      "\n",
      "See above for output.\n",
      "\n",
      "note: This error originates from a subprocess, and is likely not a problem with pip.\n"
     ]
    }
   ],
   "source": [
    "!pip install deepspeed transformers datasets soundfile"
   ]
  },
  {
   "cell_type": "code",
   "execution_count": 2,
   "id": "2bb0abe8-af47-4eb1-ad7c-8b03800854a0",
   "metadata": {},
   "outputs": [
    {
     "name": "stdout",
     "output_type": "stream",
     "text": [
      "^C\n"
     ]
    }
   ],
   "source": [
    "!python"
   ]
  },
  {
   "cell_type": "code",
   "execution_count": 3,
   "id": "b106c8eb-ffd5-4aa7-a010-d420eb5e3e5e",
   "metadata": {},
   "outputs": [
    {
     "name": "stdout",
     "output_type": "stream",
     "text": [
      "Python 3.12.4\n"
     ]
    }
   ],
   "source": [
    "!python --version"
   ]
  },
  {
   "cell_type": "code",
   "execution_count": null,
   "id": "6a493768-db4d-43db-b753-d07f9ddbd739",
   "metadata": {},
   "outputs": [],
   "source": []
  }
 ],
 "metadata": {
  "kernelspec": {
   "display_name": "Python 3 (ipykernel)",
   "language": "python",
   "name": "python3"
  },
  "language_info": {
   "codemirror_mode": {
    "name": "ipython",
    "version": 3
   },
   "file_extension": ".py",
   "mimetype": "text/x-python",
   "name": "python",
   "nbconvert_exporter": "python",
   "pygments_lexer": "ipython3",
   "version": "3.12.4"
  }
 },
 "nbformat": 4,
 "nbformat_minor": 5
}
