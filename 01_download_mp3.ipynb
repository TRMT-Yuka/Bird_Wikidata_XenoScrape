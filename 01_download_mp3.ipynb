{
 "cells": [
  {
   "cell_type": "code",
   "execution_count": 1,
   "id": "b8aabc18-5d63-49fa-9441-f2a015d82be7",
   "metadata": {},
   "outputs": [],
   "source": [
    "from mymodule import save_bin,read_bin"
   ]
  },
  {
   "cell_type": "code",
   "execution_count": 2,
   "id": "e77e6f96-62ed-4631-b172-f09e1c400d59",
   "metadata": {},
   "outputs": [],
   "source": [
    "ontology = read_bin(\"ontology.pickle\")"
   ]
  },
  {
   "cell_type": "markdown",
   "id": "51899ada-a029-4f2f-b84e-fdfbf131fd95",
   "metadata": {},
   "source": [
    "## Wikidata IDからXeno cant ID一覧を取得"
   ]
  },
  {
   "cell_type": "code",
   "execution_count": null,
   "id": "2ddd9fde-6cfc-4296-9d80-8f26584e00c7",
   "metadata": {},
   "outputs": [],
   "source": [
    "# protected_dataにコピーを作成して守る"
   ]
  },
  {
   "cell_type": "code",
   "execution_count": null,
   "id": "ebffd294-c1b1-4c24-b503-2f7f23b63552",
   "metadata": {},
   "outputs": [
    {
     "name": "stdout",
     "output_type": "stream",
     "text": [
      "50645 / 50646  nodata      "
     ]
    }
   ],
   "source": [
    "# # id2Xeno.csvの作成\n",
    "# import requests\n",
    "# from bs4 import BeautifulSoup\n",
    "# import csv\n",
    "\n",
    "# with open('saved_data/id2Xeno.csv', mode='w', newline='', encoding='utf-8') as file:\n",
    "#     writer = csv.DictWriter(file,fieldnames=[\"wikidata_id\", \"xeno_canto_id\"])#, fieldnames=[\"wikidata_id\", \"xeno_canto_id\"]\n",
    "#     writer.writeheader()\n",
    "    \n",
    "#     for i in range(0,len(ontology)):\n",
    "#         print('\\r%d / %d' %(i, 50646), end='')\n",
    "#         try:\n",
    "#             url = 'https://www.wikidata.org/entity/'+ontology[i][\"id\"]+'.json'\n",
    "#             response = requests.get(url)\n",
    "#             data = response.json()\n",
    "            \n",
    "#             the_id = list(data[\"entities\"].keys())[0]#リダイレクト対策\n",
    "#             claims = data['entities'][the_id]['claims']\n",
    "#             if 'P2426' in claims:\n",
    "#                 print('\\r%d / %d              ' %(i, 50646), end='')\n",
    "#                 xeno_canto_id = claims['P2426'][0]['mainsnak']['datavalue']['value']\n",
    "#                 writer.writerow({\"wikidata_id\":the_id, \"xeno_canto_id\":xeno_canto_id})\n",
    "#             else:\n",
    "#                 print('\\r%d / %d  nodata' %(i, 50646), end='')\n",
    "#         except:\n",
    "#             pass\n"
   ]
  },
  {
   "cell_type": "markdown",
   "id": "0d262dfd-f630-4be6-b214-f867c080f5f0",
   "metadata": {},
   "source": [
    "## Xeno cant IDから音声データID一覧を取得"
   ]
  },
  {
   "cell_type": "code",
   "execution_count": 26,
   "id": "a75cd086-52fe-4cc0-9e08-fd07191cb48c",
   "metadata": {},
   "outputs": [],
   "source": [
    "from XenoScraping import url2soup,soup2page_num,sound_ids\n",
    "import pandas as pd\n",
    "\n",
    "df = pd.read_csv(\"saved_data/id2Xeno.csv\",header = None)"
   ]
  },
  {
   "cell_type": "code",
   "execution_count": 27,
   "id": "8edb539e-be30-4ba7-9918-0ca24ab5cfd7",
   "metadata": {},
   "outputs": [],
   "source": [
    "id2Xeno = dict(zip(df[0], df[1]))\n",
    "del id2Xeno[\"wikidata_id\"]\n",
    "the_ids = list(id2Xeno.keys())\n",
    "\n",
    "xeno_canto_ids = []\n",
    "for k in the_ids:\n",
    "    xeno_canto_ids.append(id2Xeno[k])"
   ]
  },
  {
   "cell_type": "code",
   "execution_count": null,
   "id": "45e884ce-953b-471d-af44-a160947b6890",
   "metadata": {},
   "outputs": [],
   "source": [
    "# 空白の処理\n",
    "\n",
    "import requests\n",
    "from bs4 import BeautifulSoup\n",
    "import os\n",
    "from mymodule import save_bin,read_bin\n",
    "\n",
    "Xeno2sound_ids = read_bin(\"saved_data/Xeno2sound_ids.bin\")\n",
    "Xeno2sound_ids_space = dict()\n",
    "len_df = len(df)-1\n",
    "\n",
    "for j in range(0,len_df):\n",
    "    if the_ids[j] not in Xeno2sound_ids or Xeno2sound_ids[the_ids[j]] == []:\n",
    "        species_query = xeno_canto_ids[j].replace(' ', '%20')# 鳥名を検索クエリに\n",
    "        first_soup = url2soup(f\"https://xeno-canto.org/species/\"+species_query)\n",
    "        \n",
    "        n = soup2page_num(first_soup)\n",
    "        all_sound_ids = []\n",
    "        \n",
    "        for i in range(1,n+1):\n",
    "            print('\\r%d / %d   :  %d / %d               ' %(j, len_df, i, n), end='')\n",
    "            soup = url2soup(\"https://xeno-canto.org/species/\"+species_query+\"?pg=\"+str(i))\n",
    "            all_sound_ids = all_sound_ids + sound_ids(soup)\n",
    "            \n",
    "        Xeno2sound_ids_space[the_ids[j]] = all_sound_ids"
   ]
  },
  {
   "cell_type": "code",
   "execution_count": null,
   "id": "20726927-55ee-45b8-8a15-4fb017d576a4",
   "metadata": {},
   "outputs": [],
   "source": [
    "# save_bin(\"saved_data/Xeno2sound_ids_space.bin\",Xeno2sound_ids_space)"
   ]
  },
  {
   "cell_type": "code",
   "execution_count": 61,
   "id": "178cab94-2328-46af-b021-dda42c8a7461",
   "metadata": {},
   "outputs": [],
   "source": [
    "from collections import defaultdict\n",
    "\n",
    "def concat_dict(dict1, dict2):\n",
    "    result = defaultdict(list)\n",
    "    for d in (dict1, dict2):\n",
    "        for key, value in d.items():\n",
    "            result[key].extend(value)\n",
    "            result[key] = list(set(result[key]))\n",
    "    result = dict(result)\n",
    "    return result"
   ]
  },
  {
   "cell_type": "code",
   "execution_count": null,
   "id": "0862294c-d3f6-40ad-b3bd-185efe32e9a9",
   "metadata": {},
   "outputs": [],
   "source": [
    "# data_1 = read_bin(\"saved_data/Xeno2sound_ids.bin\")\n",
    "# data_2 = read_bin(\"saved_data/Xeno2sound_ids_space.bin\")\n",
    "\n",
    "# Xeno2sound_ids = concat_dict(data_1,data_2)\n",
    "# save_bin(\"saved_data/Xeno2sound_ids_all.bin\",Xeno2sound_ids)\n",
    "# del data_1,data_2"
   ]
  },
  {
   "cell_type": "markdown",
   "id": "db17c38c-a45d-4acb-a730-35202a6106bb",
   "metadata": {},
   "source": [
    "## 音声データのダウンロード"
   ]
  },
  {
   "cell_type": "code",
   "execution_count": 5,
   "id": "a0387094-d4a7-4fdd-9493-82a866a2622f",
   "metadata": {},
   "outputs": [],
   "source": [
    "# import pandas as pd\n",
    "# import os\n",
    "from mymodule import save_bin,read_bin,directory_to_dict\n",
    "\n",
    "Xeno2sound_ids = read_bin(\"saved_data/Xeno2sound_ids_all.bin\")\n",
    "\n",
    "# directory_path = './xeno_data'\n",
    "# result = directory_to_dict(directory_path)\n",
    "\n",
    "# df = pd.read_csv(\"saved_data/id2Xeno.csv\",header = None)# 順番通りに取得する必要があるため\n",
    "# the_ids = list(df[0])[1:]\n",
    "\n",
    "# os.makedirs('xeno_data', exist_ok=True)"
   ]
  },
  {
   "cell_type": "code",
   "execution_count": 2,
   "id": "5b329cac",
   "metadata": {},
   "outputs": [
    {
     "name": "stdout",
     "output_type": "stream",
     "text": [
      "len: 105\n"
     ]
    }
   ],
   "source": [
    "## データ欠損ファイル名を列挙，再処理jini \n",
    "\n",
    "# nodata_files = []#1039\n",
    "# for the_id in the_ids:\n",
    "#     if the_id in result and result[the_id] == []:\n",
    "#         nodata_files.append(the_id)\n",
    "# print(\"len:\",len(nodata_files))\n",
    "\n",
    "# lack_files = []\n",
    "# for the_id in the_ids:\n",
    "#     if the_id in result and the_id in Xeno2sound_ids:\n",
    "#         if result[the_id] != []:\n",
    "#             if len(result[the_id])>=101:\n",
    "#                 pass\n",
    "#             else:\n",
    "#                 d = len(Xeno2sound_ids[the_id])-len(result[the_id])\n",
    "#                 if d!=0:\n",
    "#                     lack_files.append(the_id)\n",
    "# print(\"len:\",len(lack_files))"
   ]
  },
  {
   "cell_type": "code",
   "execution_count": 3,
   "id": "da533e7a",
   "metadata": {},
   "outputs": [],
   "source": [
    "from mymodule import save_bin,read_bin\n",
    "# target_data = list(Xeno2sound_ids.keys())\n",
    "# save_bin(\"saved_data/target_data.bin\",target_data)\n",
    "target_data = read_bin(\"saved_data/target_data.bin\")"
   ]
  },
  {
   "cell_type": "code",
   "execution_count": null,
   "id": "1e9c6be1-0325-40d6-8a03-640aa287bf7e",
   "metadata": {},
   "outputs": [
    {
     "name": "stdout",
     "output_type": "stream",
     "text": [
      "【Q12268032】  4999 / 11019   :  33 / 34   ...274610.mp3 already exists                                        "
     ]
    }
   ],
   "source": [
    "import requests\n",
    "import os\n",
    "from concurrent.futures import ThreadPoolExecutor, as_completed\n",
    "\n",
    "# target_data = list(Xeno2sound_ids.keys())\n",
    "## データ欠損ファイル名を列挙，再処理\n",
    "# target_data = nodata_files#\n",
    "# target_data = lack_files\n",
    "\n",
    "\n",
    "def download_sound(sound_id, the_id):\n",
    "    sound_num = str(sound_id[2:])  # XC削除\n",
    "    # sound_path = os.path.join(\"xeno_data\", the_id, sound_num + \".mp3\")\n",
    "    sound_path = os.path.join(\"D:\",\"xeno_data\", the_id, sound_num + \".mp3\")#外付けデバイス\n",
    "    \n",
    "    if not os.path.exists(sound_path):\n",
    "        try:\n",
    "            audio_response = requests.get(f\"https://xeno-canto.org/{sound_num}/download\")\n",
    "            with open(sound_path, 'wb') as f:\n",
    "                f.write(audio_response.content)\n",
    "                # print(message)\n",
    "                message = f\"{sound_num}.mp3 downloaded\"\n",
    "            \n",
    "        except Exception as e:\n",
    "            # print(message)\n",
    "            message = f\"Error downloading {sound_num}.mp3: {e}\"\n",
    "        return message\n",
    "    else:\n",
    "        message = f\"{sound_num}.mp3 already exists\"\n",
    "        # print(message)\n",
    "        return message\n",
    "\n",
    "def download_all_sounds(j,the_id, sound_ids):\n",
    "    bird_path = os.path.join(\"D:\",\"xeno_data\", the_id)  # 鳥種フォルダ作成\n",
    "    os.makedirs(bird_path, exist_ok=True)\n",
    "    \n",
    "    with ThreadPoolExecutor(max_workers=5) as executor:\n",
    "        futures = [executor.submit(download_sound, sound_id, the_id) for sound_id in sound_ids]\n",
    "        i = 0\n",
    "        for future in as_completed(futures):\n",
    "            print('\\r【%s】  %d / %d   :  %d / %d   ...%s                                     '\n",
    "                  % (the_id, j, len(target_data), i, len(Xeno2sound_ids[the_id]),future.result()),\n",
    "                  end='')\n",
    "            i = i+ 1\n",
    "\n",
    "def cut_over_101(the_id):\n",
    "    input_list = Xeno2sound_ids[the_id]\n",
    "    if len(input_list) > 101:\n",
    "        input_list = input_list[:101]\n",
    "    return input_list\n",
    "\n",
    "\n",
    "for j in range(0,len(target_data)):\n",
    "    # print(j)\n",
    "    the_id = target_data[j]\n",
    "    bird_path = os.path.join(\"D:\",\"xeno_data\", the_id)# 鳥種フォルダ作成\n",
    "    os.makedirs(bird_path, exist_ok=True)\n",
    "\n",
    "    if the_id in Xeno2sound_ids:\n",
    "        ids_list = cut_over_101(the_id)\n",
    "        download_all_sounds(j,the_id, ids_list)\n",
    "    else:\n",
    "        pass"
   ]
  },
  {
   "cell_type": "code",
   "execution_count": 7,
   "id": "7fae6484",
   "metadata": {},
   "outputs": [
    {
     "data": {
      "text/plain": [
       "11019"
      ]
     },
     "execution_count": 7,
     "metadata": {},
     "output_type": "execute_result"
    }
   ],
   "source": [
    "len(target_data)"
   ]
  },
  {
   "cell_type": "code",
   "execution_count": null,
   "id": "66949889",
   "metadata": {},
   "outputs": [
    {
     "data": {
      "text/plain": [
       "11019"
      ]
     },
     "metadata": {},
     "output_type": "display_data"
    }
   ],
   "source": [
    "len(target_data)"
   ]
  },
  {
   "cell_type": "code",
   "execution_count": null,
   "id": "91817479-8299-4f61-8475-f22d80585e6d",
   "metadata": {
    "scrolled": true
   },
   "outputs": [
    {
     "name": "stdout",
     "output_type": "stream",
     "text": [
      "9192 / 9626   :  78 / 135                   "
     ]
    }
   ],
   "source": [
    "# import requests\n",
    "# import os\n",
    "# import re\n",
    "\n",
    "# for j in range(220,len(nodata_files)):\n",
    "#     the_id = nodata_files[j]\n",
    "#     bird_path = os.path.join(\"xeno_data\", the_id)# 鳥種フォルダ作成\n",
    "#     os.makedirs(bird_path, exist_ok=True)\n",
    "\n",
    "#     i = 0\n",
    "#     if the_id in Xeno2sound_ids:\n",
    "#         s = 0\n",
    "#         for sound_id in Xeno2sound_ids[the_id]:\n",
    "#             if s > 100:\n",
    "#                 break\n",
    "#             else:\n",
    "#                 try:\n",
    "#                     print('\\r%d / %d   :  %d / %d                  ' % (j, len(Xeno2sound_ids), i, len(Xeno2sound_ids[the_id])), end='')\n",
    "#                     sound_num = str(sound_id[2:])  # XC削除\n",
    "#                     sound_path = os.path.join(\"xeno_data\", the_id, sound_num + \".mp3\")\n",
    "                    \n",
    "#                     # ここでファイルの存在をチェック\n",
    "#                     if not os.path.exists(sound_path):\n",
    "#                         audio_response = requests.get(\"https://xeno-canto.org/\" + sound_num + \"/download\")\n",
    "#                         with open(sound_path, 'wb') as f:\n",
    "#                             f.write(audio_response.content)\n",
    "#                         i = i + 1\n",
    "#                     else:\n",
    "#                         print(f\"\\nFile {sound_num}.mp3 already exists, skipping download.\")\n",
    "                    \n",
    "#                     s = s + 1\n",
    "#                 except:\n",
    "#                     print('\\r%d / %d   :  %d / %d  error           ' %(j, len(Xeno2sound_ids), i, len(Xeno2sound_ids[the_id])), end='')\n",
    "#                     error.append([the_id,sound_id])\n",
    "#                     s = s + 1"
   ]
  },
  {
   "cell_type": "code",
   "execution_count": 2,
   "id": "3d8d337d-2832-4e56-a26d-bb15513c22e0",
   "metadata": {},
   "outputs": [],
   "source": [
    "# error"
   ]
  }
 ],
 "metadata": {
  "kernelspec": {
   "display_name": "env_webscraper",
   "language": "python",
   "name": "python3"
  },
  "language_info": {
   "codemirror_mode": {
    "name": "ipython",
    "version": 3
   },
   "file_extension": ".py",
   "mimetype": "text/x-python",
   "name": "python",
   "nbconvert_exporter": "python",
   "pygments_lexer": "ipython3",
   "version": "3.12.4"
  }
 },
 "nbformat": 4,
 "nbformat_minor": 5
}
